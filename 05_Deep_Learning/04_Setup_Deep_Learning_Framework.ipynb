{
 "cells": [
  {
   "cell_type": "markdown",
   "metadata": {},
   "source": []
  },
  {
   "cell_type": "markdown",
   "metadata": {},
   "source": [
    "# Setup Deep Learning Framework\n",
    "\n",
    "## Daftar Isi\n",
    "1. Persiapan Environment\n",
    "2. Instalasi Framework\n",
    "3. Verifikasi Instalasi\n",
    "4. Perbandingan Framework\n",
    "5. Hello World dengan PyTorch\n",
    "6. Hello World dengan TensorFlow/Keras\n",
    "7. Tips dan Troubleshooting\n",
    "\n",
    "## 1. Persiapan Environment\n",
    "\n",
    "Sebelum menginstal framework deep learning, kita perlu memastikan environment Python kita siap. Mari kita cek versi Python dan package yang terinstal:"
   ]
  },
  {
   "cell_type": "code",
   "execution_count": 62,
   "metadata": {},
   "outputs": [
    {
     "name": "stdout",
     "output_type": "stream",
     "text": [
      "Python version: 3.13.3 (main, Apr  9 2025, 07:44:25) [GCC 14.2.1 20250207]\n",
      "Platform: Linux-6.6.87.1-microsoft-standard-WSL2-x86_64-with-glibc2.41\n",
      "\n",
      "Installed Deep Learning Frameworks:\n",
      "- keras\n"
     ]
    },
    {
     "name": "stderr",
     "output_type": "stream",
     "text": [
      "/tmp/ipykernel_31959/2099186999.py:8: DeprecationWarning: pkg_resources is deprecated as an API. See https://setuptools.pypa.io/en/latest/pkg_resources.html\n",
      "  import pkg_resources\n"
     ]
    }
   ],
   "source": [
    "import sys\n",
    "import platform\n",
    "\n",
    "print(f\"Python version: {sys.version}\")\n",
    "print(f\"Platform: {platform.platform()}\")\n",
    "\n",
    "# Cek package yang sudah terinstall\n",
    "import pkg_resources\n",
    "installed_packages = [dist.project_name for dist in pkg_resources.working_set]\n",
    "dl_packages = [pkg for pkg in installed_packages if pkg.lower() in ['torch', 'tensorflow', 'keras']]\n",
    "\n",
    "print(\"\\nInstalled Deep Learning Frameworks:\")\n",
    "if dl_packages:\n",
    "    for pkg in dl_packages:\n",
    "        print(f\"- {pkg}\")\n",
    "else:\n",
    "    print(\"No deep learning frameworks installed yet.\")"
   ]
  },
  {
   "cell_type": "markdown",
   "metadata": {},
   "source": [
    "## 2. Instalasi Framework\n",
    "\n",
    "Untuk menginstal framework deep learning, kita bisa menggunakan pip atau conda. Berikut adalah perintah instalasi untuk masing-masing framework:\n",
    "\n",
    "### PyTorch\n",
    "```bash\n",
    "pip install torch torchvision torchaudio\n",
    "```\n",
    "\n",
    "### TensorFlow\n",
    "```bash\n",
    "pip install tensorflow\n",
    "```\n",
    "\n",
    "### Keras (sekarang bagian dari TensorFlow)\n",
    "```bash\n",
    "pip install keras\n",
    "```\n",
    "\n",
    "Mari kita coba menginstal framework yang belum terinstal:"
   ]
  },
  {
   "cell_type": "markdown",
   "metadata": {},
   "source": [
    "## Membuat Virtual Environment\n",
    "\n",
    "Sebelum menginstal framework, sangat direkomendasikan untuk membuat virtual environment terlebih dahulu. Ini akan membantu mengisolasi package dan dependencies.\n",
    "\n",
    "1. Buat virtual environment:\n",
    "```bash\n",
    "python -m venv dl_env\n",
    "```\n",
    "\n",
    "2. Aktifkan virtual environment:\n",
    "- Windows:\n",
    "```bash\n",
    "dl_env\\Scripts\\activate\n",
    "```\n",
    "- Linux/Mac:\n",
    "```bash\n",
    "source dl_env/bin/activate\n",
    "```\n",
    "\n",
    "3. Install framework dalam virtual environment:\n",
    "```bash\n",
    "pip install torch torchvision torchaudio tensorflow\n",
    "```\n",
    "\n",
    "Mari kita lakukan langkah-langkah di atas:"
   ]
  },
  {
   "cell_type": "markdown",
   "metadata": {},
   "source": [
    "## 3. Verifikasi Instalasi\n",
    "\n",
    "Setelah instalasi selesai, mari kita verifikasi bahwa PyTorch sudah terinstal dengan benar dan bisa digunakan. \n",
    "\n",
    "> **Catatan tentang TensorFlow**: \n",
    "> - TensorFlow belum mendukung Python 3.13 (versi yang kita gunakan)\n",
    "> - Untuk menggunakan TensorFlow, disarankan menggunakan Python 3.8-3.11\n",
    "> - Alternatifnya, kita bisa menggunakan Keras yang sudah terinstal\n",
    "\n",
    "Mari kita cek instalasi PyTorch:"
   ]
  },
  {
   "cell_type": "code",
   "execution_count": 63,
   "metadata": {},
   "outputs": [
    {
     "ename": "ModuleNotFoundError",
     "evalue": "No module named 'torch'",
     "output_type": "error",
     "traceback": [
      "\u001b[31m---------------------------------------------------------------------------\u001b[39m",
      "\u001b[31mModuleNotFoundError\u001b[39m                       Traceback (most recent call last)",
      "\u001b[36mCell\u001b[39m\u001b[36m \u001b[39m\u001b[32mIn[63]\u001b[39m\u001b[32m, line 1\u001b[39m\n\u001b[32m----> \u001b[39m\u001b[32m1\u001b[39m \u001b[38;5;28;01mimport\u001b[39;00m\u001b[38;5;250m \u001b[39m\u001b[34;01mtorch\u001b[39;00m\n\u001b[32m      2\u001b[39m \u001b[38;5;28;01mimport\u001b[39;00m\u001b[38;5;250m \u001b[39m\u001b[34;01mtorchvision\u001b[39;00m\n\u001b[32m      3\u001b[39m \u001b[38;5;28;01mimport\u001b[39;00m\u001b[38;5;250m \u001b[39m\u001b[34;01mkeras\u001b[39;00m\n",
      "\u001b[31mModuleNotFoundError\u001b[39m: No module named 'torch'"
     ]
    }
   ],
   "source": [
    "import torch\n",
    "import torchvision\n",
    "import keras\n",
    "\n",
    "print(\"PyTorch version:\", torch.__version__)\n",
    "print(\"CUDA available:\", torch.cuda.is_available())\n",
    "print(\"Keras version:\", keras.__version__)\n",
    "\n",
    "# Test PyTorch tensor operations\n",
    "x = torch.rand(5, 3)\n",
    "print(\"\\nRandom PyTorch tensor:\")\n",
    "print(x)\n",
    "\n",
    "# Test basic PyTorch operations\n",
    "y = torch.ones(5, 3)\n",
    "print(\"\\nAddition of tensors:\")\n",
    "print(x + y)\n",
    "\n",
    "# Test GPU availability\n",
    "if torch.cuda.is_available():\n",
    "    print(\"\\nGPU Information:\")\n",
    "    print(\"GPU Device:\", torch.cuda.get_device_name(0))\n",
    "else:\n",
    "    print(\"\\nNo GPU available, using CPU\")"
   ]
  },
  {
   "cell_type": "markdown",
   "metadata": {},
   "source": [
    "## Penting: Mengaktifkan Virtual Environment di Jupyter\n",
    "\n",
    "Setelah membuat virtual environment, kita perlu:\n",
    "1. Menginstall ipykernel di virtual environment\n",
    "2. Menambahkan kernel baru untuk Jupyter\n",
    "3. Memilih kernel baru di notebook ini\n",
    "\n",
    "Mari kita lakukan langkah-langkah tersebut:"
   ]
  },
  {
   "cell_type": "markdown",
   "metadata": {},
   "source": [
    "## 4. PyTorch Basics\n",
    "\n",
    "PyTorch adalah framework deep learning yang populer karena:\n",
    "1. Sintaks yang Pythonic\n",
    "2. Dynamic computational graphs\n",
    "3. Ekosistem yang kuat\n",
    "4. Debugging yang mudah\n",
    "\n",
    "Mari kita pelajari konsep dasar PyTorch:\n",
    "\n",
    "### 4.1 Tensors\n",
    "Tensor adalah tipe data fundamental di PyTorch, mirip dengan NumPy array tapi bisa dijalankan di GPU."
   ]
  },
  {
   "cell_type": "code",
   "execution_count": 64,
   "metadata": {},
   "outputs": [
    {
     "ename": "ModuleNotFoundError",
     "evalue": "No module named 'torch'",
     "output_type": "error",
     "traceback": [
      "\u001b[31m---------------------------------------------------------------------------\u001b[39m",
      "\u001b[31mModuleNotFoundError\u001b[39m                       Traceback (most recent call last)",
      "\u001b[36mCell\u001b[39m\u001b[36m \u001b[39m\u001b[32mIn[64]\u001b[39m\u001b[32m, line 1\u001b[39m\n\u001b[32m----> \u001b[39m\u001b[32m1\u001b[39m \u001b[38;5;28;01mimport\u001b[39;00m\u001b[38;5;250m \u001b[39m\u001b[34;01mtorch\u001b[39;00m\n\u001b[32m      2\u001b[39m \u001b[38;5;28;01mimport\u001b[39;00m\u001b[38;5;250m \u001b[39m\u001b[34;01mnumpy\u001b[39;00m\u001b[38;5;250m \u001b[39m\u001b[38;5;28;01mas\u001b[39;00m\u001b[38;5;250m \u001b[39m\u001b[34;01mnp\u001b[39;00m\n\u001b[32m      4\u001b[39m \u001b[38;5;66;03m# Membuat tensor dari list\u001b[39;00m\n",
      "\u001b[31mModuleNotFoundError\u001b[39m: No module named 'torch'"
     ]
    }
   ],
   "source": [
    "import torch\n",
    "import numpy as np\n",
    "\n",
    "# Membuat tensor dari list\n",
    "tensor_from_list = torch.tensor([[1, 2, 3], [4, 5, 6]])\n",
    "print(\"Tensor dari list:\")\n",
    "print(tensor_from_list)\n",
    "print(\"Shape:\", tensor_from_list.shape)\n",
    "\n",
    "# Membuat tensor dari NumPy array\n",
    "numpy_array = np.array([[1, 2, 3], [4, 5, 6]])\n",
    "tensor_from_numpy = torch.from_numpy(numpy_array)\n",
    "print(\"\\nTensor dari NumPy array:\")\n",
    "print(tensor_from_numpy)\n",
    "\n",
    "# Membuat tensor random\n",
    "random_tensor = torch.rand(2, 3)\n",
    "print(\"\\nTensor random:\")\n",
    "print(random_tensor)\n",
    "\n",
    "# Operasi matematika\n",
    "print(\"\\nOperasi matematika:\")\n",
    "print(\"Penjumlahan:\", tensor_from_list + 1)\n",
    "print(\"Perkalian:\", tensor_from_list * 2)\n",
    "print(\"Matrix multiplication:\\n\", torch.mm(tensor_from_list, tensor_from_list.T))"
   ]
  }
 ],
 "metadata": {
  "kernelspec": {
   "display_name": "Python 3 (ipykernel)",
   "language": "python",
   "name": "python3"
  },
  "language_info": {
   "codemirror_mode": {
    "name": "ipython",
    "version": 3
   },
   "file_extension": ".py",
   "mimetype": "text/x-python",
   "name": "python",
   "nbconvert_exporter": "python",
   "pygments_lexer": "ipython3",
   "version": "3.13.3"
  }
 },
 "nbformat": 4,
 "nbformat_minor": 2
}
