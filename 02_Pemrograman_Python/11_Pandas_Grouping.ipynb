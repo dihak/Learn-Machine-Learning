{
 "cells": [
  {
   "cell_type": "markdown",
   "metadata": {},
   "source": []
  },
  {
   "cell_type": "markdown",
   "metadata": {},
   "source": [
    "# Tutorial Pandas: Grouping Data\n",
    "\n",
    "Selamat datang di tutorial Pandas untuk Grouping Data! Dalam tutorial ini, kita akan mempelajari cara mengelompokkan dan mengagregasi data menggunakan Pandas.\n",
    "\n",
    "## Daftar Isi:\n",
    "1. Pengenalan Grouping\n",
    "2. Metode-metode Grouping\n",
    "   - groupby()\n",
    "   - agg()\n",
    "   - transform()\n",
    "3. Fungsi Agregasi\n",
    "4. Multiple Grouping\n",
    "5. Studi Kasus\n",
    "6. Latihan\n",
    "\n",
    "## 1. Pengenalan Grouping\n",
    "\n",
    "Grouping adalah teknik yang sangat penting dalam analisis data untuk mengelompokkan data berdasarkan satu atau lebih kriteria, kemudian melakukan perhitungan atau agregasi pada kelompok-kelompok tersebut. \n",
    "\n",
    "Mari kita mulai dengan mengimpor library yang diperlukan dan membuat data contoh:"
   ]
  },
  {
   "cell_type": "code",
   "execution_count": 31,
   "metadata": {},
   "outputs": [
    {
     "name": "stdout",
     "output_type": "stream",
     "text": [
      "Data Penjualan:\n",
      "     Tanggal      Produk    Kategori  Jumlah  Harga      Kota  Total\n",
      "0 2024-01-01      Tablet  Elektronik       2   1000  Surabaya   2000\n",
      "1 2024-01-02  Smartwatch      Gadget       2    500  Surabaya   1000\n",
      "2 2024-01-03      Laptop  Elektronik       4    800   Bandung   3200\n",
      "3 2024-01-04      Tablet      Gadget       8    800   Jakarta   6400\n",
      "4 2024-01-05      Tablet  Elektronik       7   1500   Jakarta  10500\n",
      "5 2024-01-06  Smartwatch      Gadget       9   2000   Bandung  18000\n",
      "6 2024-01-07      Laptop      Gadget       8   1000   Jakarta   8000\n",
      "7 2024-01-08      Laptop  Elektronik       5    500   Bandung   2500\n",
      "8 2024-01-09      Tablet  Elektronik       2   1500   Bandung   3000\n",
      "9 2024-01-10  Smartphone  Elektronik       5   2000  Surabaya  10000\n",
      "\n",
      "Informasi Dataset:\n",
      "<class 'pandas.core.frame.DataFrame'>\n",
      "RangeIndex: 50 entries, 0 to 49\n",
      "Data columns (total 7 columns):\n",
      " #   Column    Non-Null Count  Dtype         \n",
      "---  ------    --------------  -----         \n",
      " 0   Tanggal   50 non-null     datetime64[ns]\n",
      " 1   Produk    50 non-null     object        \n",
      " 2   Kategori  50 non-null     object        \n",
      " 3   Jumlah    50 non-null     int64         \n",
      " 4   Harga     50 non-null     int64         \n",
      " 5   Kota      50 non-null     object        \n",
      " 6   Total     50 non-null     int64         \n",
      "dtypes: datetime64[ns](1), int64(3), object(3)\n",
      "memory usage: 2.9+ KB\n",
      "None\n"
     ]
    }
   ],
   "source": [
    "# Import library yang diperlukan\n",
    "import pandas as pd\n",
    "import numpy as np\n",
    "\n",
    "# Membuat data penjualan toko\n",
    "np.random.seed(42)\n",
    "n = 50\n",
    "\n",
    "data_penjualan = {\n",
    "    'Tanggal': pd.date_range(start='2024-01-01', periods=n),\n",
    "    'Produk': np.random.choice(['Laptop', 'Smartphone', 'Tablet', 'Smartwatch'], n),\n",
    "    'Kategori': np.random.choice(['Elektronik', 'Gadget'], n),\n",
    "    'Jumlah': np.random.randint(1, 10, n),\n",
    "    'Harga': np.random.choice([500, 800, 1000, 1500, 2000], n),\n",
    "    'Kota': np.random.choice(['Jakarta', 'Bandung', 'Surabaya'], n)\n",
    "}\n",
    "\n",
    "# Membuat DataFrame\n",
    "df = pd.DataFrame(data_penjualan)\n",
    "\n",
    "# Menambahkan kolom Total\n",
    "df['Total'] = df['Jumlah'] * df['Harga']\n",
    "\n",
    "print(\"Data Penjualan:\")\n",
    "print(df.head(10))\n",
    "print(\"\\nInformasi Dataset:\")\n",
    "print(df.info())"
   ]
  },
  {
   "cell_type": "markdown",
   "metadata": {},
   "source": [
    "## 2. Metode-metode Grouping\n",
    "\n",
    "### 2.1 Groupby Dasar\n",
    "\n",
    "`groupby()` adalah metode utama untuk mengelompokkan data di Pandas. Mari kita lihat beberapa contoh dasar:"
   ]
  },
  {
   "cell_type": "code",
   "execution_count": 33,
   "metadata": {},
   "outputs": [
    {
     "name": "stdout",
     "output_type": "stream",
     "text": [
      "Rata-rata penjualan per Kota:\n",
      "Kota\n",
      "Bandung     7064.71\n",
      "Jakarta     7317.65\n",
      "Surabaya    6006.25\n",
      "Name: Total, dtype: float64\n",
      "\n",
      "--------------------------------------------------\n",
      "\n",
      "Statistik penjualan per Produk:\n",
      "           Jumlah    Total            Harga\n",
      "              sum     mean     sum     mean\n",
      "Produk                                     \n",
      "Laptop         63  5480.00   54800   840.00\n",
      "Smartphone     41  4627.27   50900  1236.36\n",
      "Smartwatch     92  7968.75  127500  1250.00\n",
      "Tablet         72  8261.54  107400  1369.23\n",
      "\n",
      "--------------------------------------------------\n",
      "\n",
      "Jumlah transaksi per Kategori dan Kota:\n",
      "Kota        Bandung  Jakarta  Surabaya\n",
      "Kategori                              \n",
      "Elektronik        6        9         6\n",
      "Gadget           11        8        10\n"
     ]
    }
   ],
   "source": [
    "# 1. Groupby satu kolom\n",
    "print(\"Rata-rata penjualan per Kota:\")\n",
    "print(df.groupby('Kota')['Total'].mean().round(2))\n",
    "print(\"\\n\" + \"-\"*50)\n",
    "\n",
    "# 2. Menghitung beberapa statistik sekaligus\n",
    "print(\"\\nStatistik penjualan per Produk:\")\n",
    "stats = df.groupby('Produk').agg({\n",
    "    'Jumlah': 'sum',\n",
    "    'Total': ['mean', 'sum'],\n",
    "    'Harga': 'mean'\n",
    "}).round(2)\n",
    "print(stats)\n",
    "print(\"\\n\" + \"-\"*50)\n",
    "\n",
    "# 3. Menghitung jumlah transaksi per kategori dan kota\n",
    "print(\"\\nJumlah transaksi per Kategori dan Kota:\")\n",
    "print(pd.crosstab(df['Kategori'], df['Kota']))"
   ]
  },
  {
   "cell_type": "markdown",
   "metadata": {},
   "source": [
    "### 2.2 Fungsi Agregasi Kustom\n",
    "\n",
    "Selain fungsi agregasi bawaan seperti `sum()`, `mean()`, `count()`, kita juga bisa membuat fungsi agregasi kustom:"
   ]
  },
  {
   "cell_type": "code",
   "execution_count": 34,
   "metadata": {},
   "outputs": [
    {
     "name": "stdout",
     "output_type": "stream",
     "text": [
      "Analisis Harga per Kategori:\n",
      "            Rata-rata Harga  Range Harga  Proporsi Mahal (%)  Total Penjualan\n",
      "Kategori                                                                     \n",
      "Elektronik          1347.62         1500               57.14           166200\n",
      "Gadget              1086.21         1500               37.93           174400\n"
     ]
    }
   ],
   "source": [
    "# Membuat fungsi agregasi kustom\n",
    "def range_harga(x):\n",
    "    return x.max() - x.min()\n",
    "\n",
    "def proporsi_mahal(x):\n",
    "    return (x > 1000).mean() * 100\n",
    "\n",
    "# Menggunakan fungsi kustom dalam groupby\n",
    "hasil_analisis = df.groupby('Kategori').agg({\n",
    "    'Harga': [\n",
    "        'mean',\n",
    "        range_harga,\n",
    "        proporsi_mahal\n",
    "    ],\n",
    "    'Total': 'sum'\n",
    "}).round(2)\n",
    "\n",
    "# Merapikan nama kolom\n",
    "hasil_analisis.columns = ['Rata-rata Harga', 'Range Harga', 'Proporsi Mahal (%)', 'Total Penjualan']\n",
    "\n",
    "print(\"Analisis Harga per Kategori:\")\n",
    "print(hasil_analisis)"
   ]
  },
  {
   "cell_type": "markdown",
   "metadata": {},
   "source": [
    "### 2.3 Transform dan Window Functions\n",
    "\n",
    "`transform()` memungkinkan kita untuk melakukan operasi yang mempertahankan ukuran DataFrame asli. Ini sangat berguna untuk perhitungan seperti persentase dari total atau perbedaan dari rata-rata kelompok:"
   ]
  },
  {
   "cell_type": "code",
   "execution_count": 36,
   "metadata": {},
   "outputs": [
    {
     "ename": "KeyError",
     "evalue": "'Kota'",
     "output_type": "error",
     "traceback": [
      "\u001b[31m---------------------------------------------------------------------------\u001b[39m",
      "\u001b[31mKeyError\u001b[39m                                  Traceback (most recent call last)",
      "\u001b[36mCell\u001b[39m\u001b[36m \u001b[39m\u001b[32mIn[36]\u001b[39m\u001b[32m, line 8\u001b[39m\n\u001b[32m      5\u001b[39m df[\u001b[33m'\u001b[39m\u001b[33mSelisih_dari_Rata2\u001b[39m\u001b[33m'\u001b[39m] = df[\u001b[33m'\u001b[39m\u001b[33mHarga\u001b[39m\u001b[33m'\u001b[39m] - df[\u001b[33m'\u001b[39m\u001b[33mRata2_Harga_Kategori\u001b[39m\u001b[33m'\u001b[39m]\n\u001b[32m      7\u001b[39m \u001b[38;5;66;03m# Menghitung persentase dari total penjualan per kota\u001b[39;00m\n\u001b[32m----> \u001b[39m\u001b[32m8\u001b[39m df[\u001b[33m'\u001b[39m\u001b[33mPersen_dari_Total_Kota\u001b[39m\u001b[33m'\u001b[39m] = \u001b[43mdf\u001b[49m\u001b[43m.\u001b[49m\u001b[43mgroupby\u001b[49m\u001b[43m(\u001b[49m\u001b[33;43m'\u001b[39;49m\u001b[33;43mKota\u001b[39;49m\u001b[33;43m'\u001b[39;49m\u001b[43m)\u001b[49m[\u001b[33m'\u001b[39m\u001b[33mTotal\u001b[39m\u001b[33m'\u001b[39m].transform(\n\u001b[32m      9\u001b[39m     \u001b[38;5;28;01mlambda\u001b[39;00m x: x / x.sum() * \u001b[32m100\u001b[39m\n\u001b[32m     10\u001b[39m )\n\u001b[32m     12\u001b[39m \u001b[38;5;28mprint\u001b[39m(\u001b[33m\"\u001b[39m\u001b[33mHasil Transform:\u001b[39m\u001b[33m\"\u001b[39m)\n\u001b[32m     13\u001b[39m \u001b[38;5;28mprint\u001b[39m(df[[\u001b[33m'\u001b[39m\u001b[33mProduk\u001b[39m\u001b[33m'\u001b[39m, \u001b[33m'\u001b[39m\u001b[33mKategori\u001b[39m\u001b[33m'\u001b[39m, \u001b[33m'\u001b[39m\u001b[33mHarga\u001b[39m\u001b[33m'\u001b[39m, \u001b[33m'\u001b[39m\u001b[33mRata2_Harga_Kategori\u001b[39m\u001b[33m'\u001b[39m, \n\u001b[32m     14\u001b[39m           \u001b[33m'\u001b[39m\u001b[33mSelisih_dari_Rata2\u001b[39m\u001b[33m'\u001b[39m, \u001b[33m'\u001b[39m\u001b[33mPersen_dari_Total_Kota\u001b[39m\u001b[33m'\u001b[39m]].head(\u001b[32m10\u001b[39m).round(\u001b[32m2\u001b[39m))\n",
      "\u001b[36mFile \u001b[39m\u001b[32m~/.local/lib/python3.13/site-packages/pandas/core/frame.py:9183\u001b[39m, in \u001b[36mDataFrame.groupby\u001b[39m\u001b[34m(self, by, axis, level, as_index, sort, group_keys, observed, dropna)\u001b[39m\n\u001b[32m   9180\u001b[39m \u001b[38;5;28;01mif\u001b[39;00m level \u001b[38;5;129;01mis\u001b[39;00m \u001b[38;5;28;01mNone\u001b[39;00m \u001b[38;5;129;01mand\u001b[39;00m by \u001b[38;5;129;01mis\u001b[39;00m \u001b[38;5;28;01mNone\u001b[39;00m:\n\u001b[32m   9181\u001b[39m     \u001b[38;5;28;01mraise\u001b[39;00m \u001b[38;5;167;01mTypeError\u001b[39;00m(\u001b[33m\"\u001b[39m\u001b[33mYou have to supply one of \u001b[39m\u001b[33m'\u001b[39m\u001b[33mby\u001b[39m\u001b[33m'\u001b[39m\u001b[33m and \u001b[39m\u001b[33m'\u001b[39m\u001b[33mlevel\u001b[39m\u001b[33m'\u001b[39m\u001b[33m\"\u001b[39m)\n\u001b[32m-> \u001b[39m\u001b[32m9183\u001b[39m \u001b[38;5;28;01mreturn\u001b[39;00m \u001b[43mDataFrameGroupBy\u001b[49m\u001b[43m(\u001b[49m\n\u001b[32m   9184\u001b[39m \u001b[43m    \u001b[49m\u001b[43mobj\u001b[49m\u001b[43m=\u001b[49m\u001b[38;5;28;43mself\u001b[39;49m\u001b[43m,\u001b[49m\n\u001b[32m   9185\u001b[39m \u001b[43m    \u001b[49m\u001b[43mkeys\u001b[49m\u001b[43m=\u001b[49m\u001b[43mby\u001b[49m\u001b[43m,\u001b[49m\n\u001b[32m   9186\u001b[39m \u001b[43m    \u001b[49m\u001b[43maxis\u001b[49m\u001b[43m=\u001b[49m\u001b[43maxis\u001b[49m\u001b[43m,\u001b[49m\n\u001b[32m   9187\u001b[39m \u001b[43m    \u001b[49m\u001b[43mlevel\u001b[49m\u001b[43m=\u001b[49m\u001b[43mlevel\u001b[49m\u001b[43m,\u001b[49m\n\u001b[32m   9188\u001b[39m \u001b[43m    \u001b[49m\u001b[43mas_index\u001b[49m\u001b[43m=\u001b[49m\u001b[43mas_index\u001b[49m\u001b[43m,\u001b[49m\n\u001b[32m   9189\u001b[39m \u001b[43m    \u001b[49m\u001b[43msort\u001b[49m\u001b[43m=\u001b[49m\u001b[43msort\u001b[49m\u001b[43m,\u001b[49m\n\u001b[32m   9190\u001b[39m \u001b[43m    \u001b[49m\u001b[43mgroup_keys\u001b[49m\u001b[43m=\u001b[49m\u001b[43mgroup_keys\u001b[49m\u001b[43m,\u001b[49m\n\u001b[32m   9191\u001b[39m \u001b[43m    \u001b[49m\u001b[43mobserved\u001b[49m\u001b[43m=\u001b[49m\u001b[43mobserved\u001b[49m\u001b[43m,\u001b[49m\n\u001b[32m   9192\u001b[39m \u001b[43m    \u001b[49m\u001b[43mdropna\u001b[49m\u001b[43m=\u001b[49m\u001b[43mdropna\u001b[49m\u001b[43m,\u001b[49m\n\u001b[32m   9193\u001b[39m \u001b[43m\u001b[49m\u001b[43m)\u001b[49m\n",
      "\u001b[36mFile \u001b[39m\u001b[32m~/.local/lib/python3.13/site-packages/pandas/core/groupby/groupby.py:1329\u001b[39m, in \u001b[36mGroupBy.__init__\u001b[39m\u001b[34m(self, obj, keys, axis, level, grouper, exclusions, selection, as_index, sort, group_keys, observed, dropna)\u001b[39m\n\u001b[32m   1326\u001b[39m \u001b[38;5;28mself\u001b[39m.dropna = dropna\n\u001b[32m   1328\u001b[39m \u001b[38;5;28;01mif\u001b[39;00m grouper \u001b[38;5;129;01mis\u001b[39;00m \u001b[38;5;28;01mNone\u001b[39;00m:\n\u001b[32m-> \u001b[39m\u001b[32m1329\u001b[39m     grouper, exclusions, obj = \u001b[43mget_grouper\u001b[49m\u001b[43m(\u001b[49m\n\u001b[32m   1330\u001b[39m \u001b[43m        \u001b[49m\u001b[43mobj\u001b[49m\u001b[43m,\u001b[49m\n\u001b[32m   1331\u001b[39m \u001b[43m        \u001b[49m\u001b[43mkeys\u001b[49m\u001b[43m,\u001b[49m\n\u001b[32m   1332\u001b[39m \u001b[43m        \u001b[49m\u001b[43maxis\u001b[49m\u001b[43m=\u001b[49m\u001b[43maxis\u001b[49m\u001b[43m,\u001b[49m\n\u001b[32m   1333\u001b[39m \u001b[43m        \u001b[49m\u001b[43mlevel\u001b[49m\u001b[43m=\u001b[49m\u001b[43mlevel\u001b[49m\u001b[43m,\u001b[49m\n\u001b[32m   1334\u001b[39m \u001b[43m        \u001b[49m\u001b[43msort\u001b[49m\u001b[43m=\u001b[49m\u001b[43msort\u001b[49m\u001b[43m,\u001b[49m\n\u001b[32m   1335\u001b[39m \u001b[43m        \u001b[49m\u001b[43mobserved\u001b[49m\u001b[43m=\u001b[49m\u001b[38;5;28;43;01mFalse\u001b[39;49;00m\u001b[43m \u001b[49m\u001b[38;5;28;43;01mif\u001b[39;49;00m\u001b[43m \u001b[49m\u001b[43mobserved\u001b[49m\u001b[43m \u001b[49m\u001b[38;5;129;43;01mis\u001b[39;49;00m\u001b[43m \u001b[49m\u001b[43mlib\u001b[49m\u001b[43m.\u001b[49m\u001b[43mno_default\u001b[49m\u001b[43m \u001b[49m\u001b[38;5;28;43;01melse\u001b[39;49;00m\u001b[43m \u001b[49m\u001b[43mobserved\u001b[49m\u001b[43m,\u001b[49m\n\u001b[32m   1336\u001b[39m \u001b[43m        \u001b[49m\u001b[43mdropna\u001b[49m\u001b[43m=\u001b[49m\u001b[38;5;28;43mself\u001b[39;49m\u001b[43m.\u001b[49m\u001b[43mdropna\u001b[49m\u001b[43m,\u001b[49m\n\u001b[32m   1337\u001b[39m \u001b[43m    \u001b[49m\u001b[43m)\u001b[49m\n\u001b[32m   1339\u001b[39m \u001b[38;5;28;01mif\u001b[39;00m observed \u001b[38;5;129;01mis\u001b[39;00m lib.no_default:\n\u001b[32m   1340\u001b[39m     \u001b[38;5;28;01mif\u001b[39;00m \u001b[38;5;28many\u001b[39m(ping._passed_categorical \u001b[38;5;28;01mfor\u001b[39;00m ping \u001b[38;5;129;01min\u001b[39;00m grouper.groupings):\n",
      "\u001b[36mFile \u001b[39m\u001b[32m~/.local/lib/python3.13/site-packages/pandas/core/groupby/grouper.py:1043\u001b[39m, in \u001b[36mget_grouper\u001b[39m\u001b[34m(obj, key, axis, level, sort, observed, validate, dropna)\u001b[39m\n\u001b[32m   1041\u001b[39m         in_axis, level, gpr = \u001b[38;5;28;01mFalse\u001b[39;00m, gpr, \u001b[38;5;28;01mNone\u001b[39;00m\n\u001b[32m   1042\u001b[39m     \u001b[38;5;28;01melse\u001b[39;00m:\n\u001b[32m-> \u001b[39m\u001b[32m1043\u001b[39m         \u001b[38;5;28;01mraise\u001b[39;00m \u001b[38;5;167;01mKeyError\u001b[39;00m(gpr)\n\u001b[32m   1044\u001b[39m \u001b[38;5;28;01melif\u001b[39;00m \u001b[38;5;28misinstance\u001b[39m(gpr, Grouper) \u001b[38;5;129;01mand\u001b[39;00m gpr.key \u001b[38;5;129;01mis\u001b[39;00m \u001b[38;5;129;01mnot\u001b[39;00m \u001b[38;5;28;01mNone\u001b[39;00m:\n\u001b[32m   1045\u001b[39m     \u001b[38;5;66;03m# Add key to exclusions\u001b[39;00m\n\u001b[32m   1046\u001b[39m     exclusions.add(gpr.key)\n",
      "\u001b[31mKeyError\u001b[39m: 'Kota'"
     ]
    }
   ],
   "source": [
    "# Menambahkan kolom rata-rata harga per kategori\n",
    "df['Rata2_Harga_Kategori'] = df.groupby('Kategori')['Harga'].transform('mean')\n",
    "\n",
    "# Menghitung perbedaan dari rata-rata kategori\n",
    "df['Selisih_dari_Rata2'] = df['Harga'] - df['Rata2_Harga_Kategori']\n",
    "\n",
    "# Menghitung persentase dari total penjualan per kota\n",
    "df['Persen_dari_Total_Kota'] = df.groupby('Kota')['Total'].transform(\n",
    "    lambda x: x / x.sum() * 100\n",
    ")\n",
    "\n",
    "print(\"Hasil Transform:\")\n",
    "print(df[['Produk', 'Kategori', 'Harga', 'Rata2_Harga_Kategori', \n",
    "          'Selisih_dari_Rata2', 'Persen_dari_Total_Kota']].head(10).round(2))"
   ]
  },
  {
   "cell_type": "code",
   "execution_count": 37,
   "metadata": {},
   "outputs": [
    {
     "name": "stdout",
     "output_type": "stream",
     "text": [
      "Analisis Harga Relatif terhadap Kategori:\n",
      "       Produk    Kategori     Harga  Rata2_Harga_Kategori  Selisih_dari_Rata2\n",
      "0      Laptop  Elektronik   6923388            9135561.33         -2212173.33\n",
      "1  Smartphone      Gadget   7050634            8815992.50         -1765358.50\n",
      "2      Tablet      Gadget  10581351            8815992.50          1765358.50\n",
      "3   Headphone   Aksesoris   4804572            8398372.00         -3593800.00\n",
      "4       Mouse   Aksesoris  13815092            8398372.00          5416720.00\n",
      "5    Keyboard   Aksesoris   2734489            8398372.00         -5663883.00\n",
      "6     Monitor  Elektronik  10458614            9135561.33          1323052.67\n",
      "7     Printer  Elektronik  10024682            9135561.33           889120.67\n",
      "8     Speaker   Aksesoris  12933495            8398372.00          4535123.00\n",
      "9     Charger   Aksesoris   7704212            8398372.00          -694160.00\n"
     ]
    }
   ],
   "source": [
    "# Menambahkan kolom rata-rata harga per kategori\n",
    "df['Rata2_Harga_Kategori'] = df.groupby('Kategori')['Harga'].transform('mean')\n",
    "\n",
    "# Menghitung perbedaan dari rata-rata kategori\n",
    "df['Selisih_dari_Rata2'] = df['Harga'] - df['Rata2_Harga_Kategori']\n",
    "\n",
    "print(\"Analisis Harga Relatif terhadap Kategori:\")\n",
    "print(df[['Produk', 'Kategori', 'Harga', 'Rata2_Harga_Kategori', \n",
    "          'Selisih_dari_Rata2']].head(10).round(2))"
   ]
  },
  {
   "cell_type": "markdown",
   "metadata": {},
   "source": [
    "### 2.4 Multiple Grouping\n",
    "\n",
    "Kita juga bisa melakukan grouping berdasarkan multiple kolom:"
   ]
  },
  {
   "cell_type": "code",
   "execution_count": 38,
   "metadata": {},
   "outputs": [
    {
     "ename": "KeyError",
     "evalue": "\"Column(s) ['Jumlah', 'Total'] do not exist\"",
     "output_type": "error",
     "traceback": [
      "\u001b[31m---------------------------------------------------------------------------\u001b[39m",
      "\u001b[31mKeyError\u001b[39m                                  Traceback (most recent call last)",
      "\u001b[36mCell\u001b[39m\u001b[36m \u001b[39m\u001b[32mIn[38]\u001b[39m\u001b[32m, line 2\u001b[39m\n\u001b[32m      1\u001b[39m \u001b[38;5;66;03m# Multiple grouping dengan berbagai agregasi\u001b[39;00m\n\u001b[32m----> \u001b[39m\u001b[32m2\u001b[39m hasil_multi = \u001b[43mdf\u001b[49m\u001b[43m.\u001b[49m\u001b[43mgroupby\u001b[49m\u001b[43m(\u001b[49m\u001b[43m[\u001b[49m\u001b[33;43m'\u001b[39;49m\u001b[33;43mKategori\u001b[39;49m\u001b[33;43m'\u001b[39;49m\u001b[43m,\u001b[49m\u001b[43m \u001b[49m\u001b[33;43m'\u001b[39;49m\u001b[33;43mProduk\u001b[39;49m\u001b[33;43m'\u001b[39;49m\u001b[43m]\u001b[49m\u001b[43m)\u001b[49m\u001b[43m.\u001b[49m\u001b[43magg\u001b[49m\u001b[43m(\u001b[49m\u001b[43m{\u001b[49m\n\u001b[32m      3\u001b[39m \u001b[43m    \u001b[49m\u001b[33;43m'\u001b[39;49m\u001b[33;43mJumlah\u001b[39;49m\u001b[33;43m'\u001b[39;49m\u001b[43m:\u001b[49m\u001b[43m \u001b[49m\u001b[43m[\u001b[49m\u001b[33;43m'\u001b[39;49m\u001b[33;43mcount\u001b[39;49m\u001b[33;43m'\u001b[39;49m\u001b[43m,\u001b[49m\u001b[43m \u001b[49m\u001b[33;43m'\u001b[39;49m\u001b[33;43msum\u001b[39;49m\u001b[33;43m'\u001b[39;49m\u001b[43m,\u001b[49m\u001b[43m \u001b[49m\u001b[33;43m'\u001b[39;49m\u001b[33;43mmean\u001b[39;49m\u001b[33;43m'\u001b[39;49m\u001b[43m]\u001b[49m\u001b[43m,\u001b[49m\n\u001b[32m      4\u001b[39m \u001b[43m    \u001b[49m\u001b[33;43m'\u001b[39;49m\u001b[33;43mHarga\u001b[39;49m\u001b[33;43m'\u001b[39;49m\u001b[43m:\u001b[49m\u001b[43m \u001b[49m\u001b[43m[\u001b[49m\u001b[33;43m'\u001b[39;49m\u001b[33;43mmin\u001b[39;49m\u001b[33;43m'\u001b[39;49m\u001b[43m,\u001b[49m\u001b[43m \u001b[49m\u001b[33;43m'\u001b[39;49m\u001b[33;43mmax\u001b[39;49m\u001b[33;43m'\u001b[39;49m\u001b[43m,\u001b[49m\u001b[43m \u001b[49m\u001b[33;43m'\u001b[39;49m\u001b[33;43mmean\u001b[39;49m\u001b[33;43m'\u001b[39;49m\u001b[43m]\u001b[49m\u001b[43m,\u001b[49m\n\u001b[32m      5\u001b[39m \u001b[43m    \u001b[49m\u001b[33;43m'\u001b[39;49m\u001b[33;43mTotal\u001b[39;49m\u001b[33;43m'\u001b[39;49m\u001b[43m:\u001b[49m\u001b[43m \u001b[49m\u001b[33;43m'\u001b[39;49m\u001b[33;43msum\u001b[39;49m\u001b[33;43m'\u001b[39;49m\n\u001b[32m      6\u001b[39m \u001b[43m}\u001b[49m\u001b[43m)\u001b[49m.round(\u001b[32m2\u001b[39m)\n\u001b[32m      8\u001b[39m \u001b[38;5;28mprint\u001b[39m(\u001b[33m\"\u001b[39m\u001b[33mAnalisis Detail per Kategori dan Produk:\u001b[39m\u001b[33m\"\u001b[39m)\n\u001b[32m      9\u001b[39m \u001b[38;5;28mprint\u001b[39m(hasil_multi)\n",
      "\u001b[36mFile \u001b[39m\u001b[32m~/.local/lib/python3.13/site-packages/pandas/core/groupby/generic.py:1432\u001b[39m, in \u001b[36mDataFrameGroupBy.aggregate\u001b[39m\u001b[34m(self, func, engine, engine_kwargs, *args, **kwargs)\u001b[39m\n\u001b[32m   1429\u001b[39m     kwargs[\u001b[33m\"\u001b[39m\u001b[33mengine_kwargs\u001b[39m\u001b[33m\"\u001b[39m] = engine_kwargs\n\u001b[32m   1431\u001b[39m op = GroupByApply(\u001b[38;5;28mself\u001b[39m, func, args=args, kwargs=kwargs)\n\u001b[32m-> \u001b[39m\u001b[32m1432\u001b[39m result = \u001b[43mop\u001b[49m\u001b[43m.\u001b[49m\u001b[43magg\u001b[49m\u001b[43m(\u001b[49m\u001b[43m)\u001b[49m\n\u001b[32m   1433\u001b[39m \u001b[38;5;28;01mif\u001b[39;00m \u001b[38;5;129;01mnot\u001b[39;00m is_dict_like(func) \u001b[38;5;129;01mand\u001b[39;00m result \u001b[38;5;129;01mis\u001b[39;00m \u001b[38;5;129;01mnot\u001b[39;00m \u001b[38;5;28;01mNone\u001b[39;00m:\n\u001b[32m   1434\u001b[39m     \u001b[38;5;66;03m# GH #52849\u001b[39;00m\n\u001b[32m   1435\u001b[39m     \u001b[38;5;28;01mif\u001b[39;00m \u001b[38;5;129;01mnot\u001b[39;00m \u001b[38;5;28mself\u001b[39m.as_index \u001b[38;5;129;01mand\u001b[39;00m is_list_like(func):\n",
      "\u001b[36mFile \u001b[39m\u001b[32m~/.local/lib/python3.13/site-packages/pandas/core/apply.py:190\u001b[39m, in \u001b[36mApply.agg\u001b[39m\u001b[34m(self)\u001b[39m\n\u001b[32m    187\u001b[39m     \u001b[38;5;28;01mreturn\u001b[39;00m \u001b[38;5;28mself\u001b[39m.apply_str()\n\u001b[32m    189\u001b[39m \u001b[38;5;28;01mif\u001b[39;00m is_dict_like(func):\n\u001b[32m--> \u001b[39m\u001b[32m190\u001b[39m     \u001b[38;5;28;01mreturn\u001b[39;00m \u001b[38;5;28;43mself\u001b[39;49m\u001b[43m.\u001b[49m\u001b[43magg_dict_like\u001b[49m\u001b[43m(\u001b[49m\u001b[43m)\u001b[49m\n\u001b[32m    191\u001b[39m \u001b[38;5;28;01melif\u001b[39;00m is_list_like(func):\n\u001b[32m    192\u001b[39m     \u001b[38;5;66;03m# we require a list, but not a 'str'\u001b[39;00m\n\u001b[32m    193\u001b[39m     \u001b[38;5;28;01mreturn\u001b[39;00m \u001b[38;5;28mself\u001b[39m.agg_list_like()\n",
      "\u001b[36mFile \u001b[39m\u001b[32m~/.local/lib/python3.13/site-packages/pandas/core/apply.py:423\u001b[39m, in \u001b[36mApply.agg_dict_like\u001b[39m\u001b[34m(self)\u001b[39m\n\u001b[32m    415\u001b[39m \u001b[38;5;28;01mdef\u001b[39;00m\u001b[38;5;250m \u001b[39m\u001b[34magg_dict_like\u001b[39m(\u001b[38;5;28mself\u001b[39m) -> DataFrame | Series:\n\u001b[32m    416\u001b[39m \u001b[38;5;250m    \u001b[39m\u001b[33;03m\"\"\"\u001b[39;00m\n\u001b[32m    417\u001b[39m \u001b[33;03m    Compute aggregation in the case of a dict-like argument.\u001b[39;00m\n\u001b[32m    418\u001b[39m \n\u001b[32m   (...)\u001b[39m\u001b[32m    421\u001b[39m \u001b[33;03m    Result of aggregation.\u001b[39;00m\n\u001b[32m    422\u001b[39m \u001b[33;03m    \"\"\"\u001b[39;00m\n\u001b[32m--> \u001b[39m\u001b[32m423\u001b[39m     \u001b[38;5;28;01mreturn\u001b[39;00m \u001b[38;5;28;43mself\u001b[39;49m\u001b[43m.\u001b[49m\u001b[43magg_or_apply_dict_like\u001b[49m\u001b[43m(\u001b[49m\u001b[43mop_name\u001b[49m\u001b[43m=\u001b[49m\u001b[33;43m\"\u001b[39;49m\u001b[33;43magg\u001b[39;49m\u001b[33;43m\"\u001b[39;49m\u001b[43m)\u001b[49m\n",
      "\u001b[36mFile \u001b[39m\u001b[32m~/.local/lib/python3.13/site-packages/pandas/core/apply.py:1608\u001b[39m, in \u001b[36mGroupByApply.agg_or_apply_dict_like\u001b[39m\u001b[34m(self, op_name)\u001b[39m\n\u001b[32m   1603\u001b[39m     kwargs.update({\u001b[33m\"\u001b[39m\u001b[33mengine\u001b[39m\u001b[33m\"\u001b[39m: engine, \u001b[33m\"\u001b[39m\u001b[33mengine_kwargs\u001b[39m\u001b[33m\"\u001b[39m: engine_kwargs})\n\u001b[32m   1605\u001b[39m \u001b[38;5;28;01mwith\u001b[39;00m com.temp_setattr(\n\u001b[32m   1606\u001b[39m     obj, \u001b[33m\"\u001b[39m\u001b[33mas_index\u001b[39m\u001b[33m\"\u001b[39m, \u001b[38;5;28;01mTrue\u001b[39;00m, condition=\u001b[38;5;28mhasattr\u001b[39m(obj, \u001b[33m\"\u001b[39m\u001b[33mas_index\u001b[39m\u001b[33m\"\u001b[39m)\n\u001b[32m   1607\u001b[39m ):\n\u001b[32m-> \u001b[39m\u001b[32m1608\u001b[39m     result_index, result_data = \u001b[38;5;28;43mself\u001b[39;49m\u001b[43m.\u001b[49m\u001b[43mcompute_dict_like\u001b[49m\u001b[43m(\u001b[49m\n\u001b[32m   1609\u001b[39m \u001b[43m        \u001b[49m\u001b[43mop_name\u001b[49m\u001b[43m,\u001b[49m\u001b[43m \u001b[49m\u001b[43mselected_obj\u001b[49m\u001b[43m,\u001b[49m\u001b[43m \u001b[49m\u001b[43mselection\u001b[49m\u001b[43m,\u001b[49m\u001b[43m \u001b[49m\u001b[43mkwargs\u001b[49m\n\u001b[32m   1610\u001b[39m \u001b[43m    \u001b[49m\u001b[43m)\u001b[49m\n\u001b[32m   1611\u001b[39m result = \u001b[38;5;28mself\u001b[39m.wrap_results_dict_like(selected_obj, result_index, result_data)\n\u001b[32m   1612\u001b[39m \u001b[38;5;28;01mreturn\u001b[39;00m result\n",
      "\u001b[36mFile \u001b[39m\u001b[32m~/.local/lib/python3.13/site-packages/pandas/core/apply.py:462\u001b[39m, in \u001b[36mApply.compute_dict_like\u001b[39m\u001b[34m(self, op_name, selected_obj, selection, kwargs)\u001b[39m\n\u001b[32m    460\u001b[39m is_groupby = \u001b[38;5;28misinstance\u001b[39m(obj, (DataFrameGroupBy, SeriesGroupBy))\n\u001b[32m    461\u001b[39m func = cast(AggFuncTypeDict, \u001b[38;5;28mself\u001b[39m.func)\n\u001b[32m--> \u001b[39m\u001b[32m462\u001b[39m func = \u001b[38;5;28;43mself\u001b[39;49m\u001b[43m.\u001b[49m\u001b[43mnormalize_dictlike_arg\u001b[49m\u001b[43m(\u001b[49m\u001b[43mop_name\u001b[49m\u001b[43m,\u001b[49m\u001b[43m \u001b[49m\u001b[43mselected_obj\u001b[49m\u001b[43m,\u001b[49m\u001b[43m \u001b[49m\u001b[43mfunc\u001b[49m\u001b[43m)\u001b[49m\n\u001b[32m    464\u001b[39m is_non_unique_col = (\n\u001b[32m    465\u001b[39m     selected_obj.ndim == \u001b[32m2\u001b[39m\n\u001b[32m    466\u001b[39m     \u001b[38;5;129;01mand\u001b[39;00m selected_obj.columns.nunique() < \u001b[38;5;28mlen\u001b[39m(selected_obj.columns)\n\u001b[32m    467\u001b[39m )\n\u001b[32m    469\u001b[39m \u001b[38;5;28;01mif\u001b[39;00m selected_obj.ndim == \u001b[32m1\u001b[39m:\n\u001b[32m    470\u001b[39m     \u001b[38;5;66;03m# key only used for output\u001b[39;00m\n",
      "\u001b[36mFile \u001b[39m\u001b[32m~/.local/lib/python3.13/site-packages/pandas/core/apply.py:663\u001b[39m, in \u001b[36mApply.normalize_dictlike_arg\u001b[39m\u001b[34m(self, how, obj, func)\u001b[39m\n\u001b[32m    661\u001b[39m     cols = Index(\u001b[38;5;28mlist\u001b[39m(func.keys())).difference(obj.columns, sort=\u001b[38;5;28;01mTrue\u001b[39;00m)\n\u001b[32m    662\u001b[39m     \u001b[38;5;28;01mif\u001b[39;00m \u001b[38;5;28mlen\u001b[39m(cols) > \u001b[32m0\u001b[39m:\n\u001b[32m--> \u001b[39m\u001b[32m663\u001b[39m         \u001b[38;5;28;01mraise\u001b[39;00m \u001b[38;5;167;01mKeyError\u001b[39;00m(\u001b[33mf\u001b[39m\u001b[33m\"\u001b[39m\u001b[33mColumn(s) \u001b[39m\u001b[38;5;132;01m{\u001b[39;00m\u001b[38;5;28mlist\u001b[39m(cols)\u001b[38;5;132;01m}\u001b[39;00m\u001b[33m do not exist\u001b[39m\u001b[33m\"\u001b[39m)\n\u001b[32m    665\u001b[39m aggregator_types = (\u001b[38;5;28mlist\u001b[39m, \u001b[38;5;28mtuple\u001b[39m, \u001b[38;5;28mdict\u001b[39m)\n\u001b[32m    667\u001b[39m \u001b[38;5;66;03m# if we have a dict of any non-scalars\u001b[39;00m\n\u001b[32m    668\u001b[39m \u001b[38;5;66;03m# eg. {'A' : ['mean']}, normalize all to\u001b[39;00m\n\u001b[32m    669\u001b[39m \u001b[38;5;66;03m# be list-likes\u001b[39;00m\n\u001b[32m    670\u001b[39m \u001b[38;5;66;03m# Cannot use func.values() because arg may be a Series\u001b[39;00m\n",
      "\u001b[31mKeyError\u001b[39m: \"Column(s) ['Jumlah', 'Total'] do not exist\""
     ]
    }
   ],
   "source": [
    "# Multiple grouping dengan berbagai agregasi\n",
    "hasil_multi = df.groupby(['Kategori', 'Produk']).agg({\n",
    "    'Jumlah': ['count', 'sum', 'mean'],\n",
    "    'Harga': ['min', 'max', 'mean'],\n",
    "    'Total': 'sum'\n",
    "}).round(2)\n",
    "\n",
    "print(\"Analisis Detail per Kategori dan Produk:\")\n",
    "print(hasil_multi)"
   ]
  },
  {
   "cell_type": "code",
   "execution_count": 39,
   "metadata": {},
   "outputs": [
    {
     "name": "stdout",
     "output_type": "stream",
     "text": [
      "Analisis Detail per Kategori dan Produk:\n",
      "                      Harga                                \n",
      "                      count       min       max        mean\n",
      "Kategori   Produk                                          \n",
      "Aksesoris  Charger        1   7704212   7704212   7704212.0\n",
      "           Headphone      1   4804572   4804572   4804572.0\n",
      "           Keyboard       1   2734489   2734489   2734489.0\n",
      "           Mouse          1  13815092  13815092  13815092.0\n",
      "           Speaker        1  12933495  12933495  12933495.0\n",
      "Elektronik Laptop         1   6923388   6923388   6923388.0\n",
      "           Monitor        1  10458614  10458614  10458614.0\n",
      "           Printer        1  10024682  10024682  10024682.0\n",
      "Gadget     Smartphone     1   7050634   7050634   7050634.0\n",
      "           Tablet         1  10581351  10581351  10581351.0\n"
     ]
    }
   ],
   "source": [
    "# Multiple grouping dengan berbagai agregasi\n",
    "hasil_multi = df.groupby(['Kategori', 'Produk']).agg({\n",
    "    'Harga': ['count', 'min', 'max', 'mean']\n",
    "}).round(2)\n",
    "\n",
    "print(\"Analisis Detail per Kategori dan Produk:\")\n",
    "print(hasil_multi)"
   ]
  },
  {
   "cell_type": "markdown",
   "metadata": {},
   "source": [
    "## 3. Studi Kasus: Analisis Penjualan\n",
    "\n",
    "Mari kita coba sebuah studi kasus yang lebih kompleks dengan menganalisis data penjualan. Kita akan membuat dataset baru yang lebih lengkap:"
   ]
  },
  {
   "cell_type": "code",
   "execution_count": 40,
   "metadata": {},
   "outputs": [
    {
     "name": "stdout",
     "output_type": "stream",
     "text": [
      "Data Penjualan:\n",
      "     Tanggal ID_Produk Kategori  Jumlah  Harga_Satuan      Kota  \\\n",
      "0 2024-01-01      P007  Makanan       8        100272     Medan   \n",
      "1 2024-01-02      P020  Minuman       9         48467  Surabaya   \n",
      "2 2024-01-03      P015  Minuman       4        819760   Jakarta   \n",
      "3 2024-01-04      P011  Fashion       1        887844   Bandung   \n",
      "4 2024-01-05      P008  Makanan       1        490047  Surabaya   \n",
      "\n",
      "  Metode_Pembayaran  Total_Penjualan  \n",
      "0              Cash           802176  \n",
      "1          E-Wallet           436203  \n",
      "2       Credit Card          3279040  \n",
      "3       Credit Card           887844  \n",
      "4       Credit Card           490047  \n",
      "\n",
      "Informasi Dataset:\n",
      "<class 'pandas.core.frame.DataFrame'>\n",
      "RangeIndex: 100 entries, 0 to 99\n",
      "Data columns (total 8 columns):\n",
      " #   Column             Non-Null Count  Dtype         \n",
      "---  ------             --------------  -----         \n",
      " 0   Tanggal            100 non-null    datetime64[ns]\n",
      " 1   ID_Produk          100 non-null    object        \n",
      " 2   Kategori           100 non-null    object        \n",
      " 3   Jumlah             100 non-null    int64         \n",
      " 4   Harga_Satuan       100 non-null    int64         \n",
      " 5   Kota               100 non-null    object        \n",
      " 6   Metode_Pembayaran  100 non-null    object        \n",
      " 7   Total_Penjualan    100 non-null    int64         \n",
      "dtypes: datetime64[ns](1), int64(3), object(4)\n",
      "memory usage: 6.4+ KB\n",
      "None\n"
     ]
    }
   ],
   "source": [
    "# Membuat dataset penjualan yang lebih lengkap\n",
    "np.random.seed(42)\n",
    "n_transaksi = 100\n",
    "\n",
    "data_penjualan = {\n",
    "    'Tanggal': pd.date_range(start='2024-01-01', periods=n_transaksi),\n",
    "    'ID_Produk': [f'P{str(i).zfill(3)}' for i in np.random.randint(1, 21, n_transaksi)],\n",
    "    'Kategori': np.random.choice(['Elektronik', 'Fashion', 'Makanan', 'Minuman'], n_transaksi),\n",
    "    'Jumlah': np.random.randint(1, 10, n_transaksi),\n",
    "    'Harga_Satuan': np.random.randint(10000, 1000000, n_transaksi),\n",
    "    'Kota': np.random.choice(['Jakarta', 'Bandung', 'Surabaya', 'Medan'], n_transaksi),\n",
    "    'Metode_Pembayaran': np.random.choice(['Cash', 'Credit Card', 'E-Wallet'], n_transaksi)\n",
    "}\n",
    "\n",
    "# Membuat DataFrame\n",
    "df_sales = pd.DataFrame(data_penjualan)\n",
    "\n",
    "# Menambahkan kolom Total Penjualan\n",
    "df_sales['Total_Penjualan'] = df_sales['Jumlah'] * df_sales['Harga_Satuan']\n",
    "\n",
    "print(\"Data Penjualan:\")\n",
    "print(df_sales.head())\n",
    "print(\"\\nInformasi Dataset:\")\n",
    "print(df_sales.info())"
   ]
  },
  {
   "cell_type": "markdown",
   "metadata": {},
   "source": [
    "### Analisis Data Penjualan\n",
    "\n",
    "Mari kita lakukan beberapa analisis menggunakan berbagai teknik grouping:"
   ]
  },
  {
   "cell_type": "code",
   "execution_count": 41,
   "metadata": {},
   "outputs": [
    {
     "name": "stdout",
     "output_type": "stream",
     "text": [
      "Total Penjualan per Kategori:\n",
      "                 sum        mean  count\n",
      "Kategori                               \n",
      "Elektronik  68905172  2756206.88     25\n",
      "Fashion     50896998  2423666.57     21\n",
      "Makanan     60071857  1877245.53     32\n",
      "Minuman     45655206  2075236.64     22\n",
      "\n",
      "--------------------------------------------------\n",
      "\n",
      "Analisis per Kota dan Metode Pembayaran:\n",
      "Metode_Pembayaran      Cash  Credit Card  E-Wallet\n",
      "Kota                                              \n",
      "Bandung            28256670     27203294  10714755\n",
      "Jakarta            13579897     12913003  14361884\n",
      "Medan              25556576     30458651  13386549\n",
      "Surabaya           19279968     15400047  14417939\n",
      "\n",
      "--------------------------------------------------\n",
      "\n",
      "Trend Penjualan Bulanan per Kategori:\n",
      "Bulan    Kategori  \n",
      "2024-01  Elektronik    14406549\n",
      "         Fashion        9305043\n",
      "         Makanan       19474248\n",
      "         Minuman       10576263\n",
      "2024-02  Elektronik    29359135\n",
      "                         ...   \n",
      "2024-03  Minuman       14044358\n",
      "2024-04  Elektronik      276222\n",
      "         Fashion        5157164\n",
      "         Makanan        7838547\n",
      "         Minuman        3760678\n",
      "Name: Total_Penjualan, Length: 16, dtype: int64\n"
     ]
    }
   ],
   "source": [
    "# 1. Total penjualan per kategori\n",
    "print(\"Total Penjualan per Kategori:\")\n",
    "kategori_sales = df_sales.groupby('Kategori')['Total_Penjualan'].agg(['sum', 'mean', 'count']).round(2)\n",
    "print(kategori_sales)\n",
    "print(\"\\n\" + \"-\"*50)\n",
    "\n",
    "# 2. Analisis per kota dan metode pembayaran\n",
    "print(\"\\nAnalisis per Kota dan Metode Pembayaran:\")\n",
    "kota_payment = pd.pivot_table(df_sales, \n",
    "                            values='Total_Penjualan',\n",
    "                            index='Kota',\n",
    "                            columns='Metode_Pembayaran',\n",
    "                            aggfunc='sum',\n",
    "                            fill_value=0).round(2)\n",
    "print(kota_payment)\n",
    "print(\"\\n\" + \"-\"*50)\n",
    "\n",
    "# 3. Trend penjualan per bulan\n",
    "df_sales['Bulan'] = df_sales['Tanggal'].dt.to_period('M')\n",
    "print(\"\\nTrend Penjualan Bulanan per Kategori:\")\n",
    "monthly_trend = df_sales.groupby(['Bulan', 'Kategori'])['Total_Penjualan'].sum().round(2)\n",
    "print(monthly_trend)"
   ]
  },
  {
   "cell_type": "markdown",
   "metadata": {},
   "source": [
    "## 4. Latihan\n",
    "\n",
    "Sekarang saatnya untuk berlatih! Gunakan dataset penjualan di atas untuk menyelesaikan soal-soal berikut:\n",
    "\n",
    "1. Hitung rata-rata penjualan harian untuk setiap kategori produk\n",
    "2. Temukan produk dengan penjualan tertinggi di setiap kota\n",
    "3. Analisis distribusi metode pembayaran untuk setiap kategori produk\n",
    "4. Hitung total penjualan mingguan dan bandingkan antar kategori\n",
    "5. Identifikasi tren penjualan (naik/turun) untuk setiap kategori\n",
    "\n",
    "Berikut adalah template kode untuk memulai latihan:"
   ]
  },
  {
   "cell_type": "code",
   "execution_count": 42,
   "metadata": {},
   "outputs": [],
   "source": [
    "# Template untuk latihan\n",
    "\n",
    "# Soal 1: Rata-rata penjualan harian per kategori\n",
    "# Hint: Gunakan groupby dengan Tanggal dan Kategori\n",
    "\n",
    "# Soal 2: Produk dengan penjualan tertinggi per kota\n",
    "# Hint: Gunakan groupby dengan Kota dan ID_Produk, kemudian ambil yang tertinggi\n",
    "\n",
    "# Soal 3: Distribusi metode pembayaran per kategori\n",
    "# Hint: Gunakan crosstab atau pivot_table\n",
    "\n",
    "# Soal 4: Total penjualan mingguan per kategori\n",
    "# Hint: Tambahkan kolom minggu menggunakan dt.isocalendar().week\n",
    "\n",
    "# Soal 5: Tren penjualan per kategori\n",
    "# Hint: Hitung perubahan persentase dari periode ke periode"
   ]
  },
  {
   "cell_type": "markdown",
   "metadata": {},
   "source": [
    "### Solusi Latihan\n",
    "\n",
    "Berikut adalah solusi untuk latihan di atas. Cobalah untuk mengerjakan sendiri terlebih dahulu sebelum melihat solusi!"
   ]
  },
  {
   "cell_type": "code",
   "execution_count": 44,
   "metadata": {},
   "outputs": [
    {
     "name": "stdout",
     "output_type": "stream",
     "text": [
      "Rata-rata Penjualan Harian per Kategori:\n",
      "Tanggal     Kategori  \n",
      "2024-01-01  Makanan        802176.0\n",
      "2024-01-02  Minuman        436203.0\n",
      "2024-01-03  Minuman       3279040.0\n",
      "2024-01-04  Fashion        887844.0\n",
      "2024-01-05  Makanan        490047.0\n",
      "2024-01-06  Makanan       2677388.0\n",
      "2024-01-07  Elektronik     482097.0\n",
      "2024-01-08  Makanan       1899806.0\n",
      "2024-01-09  Elektronik     415173.0\n",
      "2024-01-10  Makanan        449430.0\n",
      "Name: Total_Penjualan, dtype: float64\n",
      "\n",
      "--------------------------------------------------\n",
      "\n",
      "Produk dengan Penjualan Tertinggi per Kota:\n",
      "        Kota ID_Produk  Total_Penjualan\n",
      "12   Bandung      P002          6723968\n",
      "60   Jakarta      P004          6252288\n",
      "57     Medan      P012          7472340\n",
      "79  Surabaya      P012          7604776\n",
      "\n",
      "--------------------------------------------------\n",
      "\n",
      "Distribusi Metode Pembayaran per Kategori:\n",
      "Metode_Pembayaran      Cash  Credit Card  E-Wallet\n",
      "Kategori                                          \n",
      "Elektronik         28073304     27456249  13375619\n",
      "Fashion            20350900     13641244  16904854\n",
      "Makanan            22757658     28138418   9175781\n",
      "Minuman            15491249     16739084  13424873\n",
      "\n",
      "--------------------------------------------------\n",
      "\n",
      "Total Penjualan Mingguan per Kategori:\n",
      "Minggu  Kategori  \n",
      "1       Elektronik     482097\n",
      "        Fashion        887844\n",
      "        Makanan       3969611\n",
      "        Minuman       3715243\n",
      "2       Elektronik    7405828\n",
      "                       ...   \n",
      "14      Fashion       1530146\n",
      "        Makanan       7838547\n",
      "        Minuman        786962\n",
      "15      Fashion       3627018\n",
      "        Minuman       2973716\n",
      "Name: Total_Penjualan, Length: 52, dtype: int64\n",
      "\n",
      "--------------------------------------------------\n",
      "\n",
      "Tren Penjualan per Kategori:\n",
      "Perubahan Persentase Bulanan:\n",
      "Bulan    Kategori  \n",
      "2024-01  Elektronik       NaN\n",
      "         Fashion          NaN\n",
      "         Makanan          NaN\n",
      "         Minuman          NaN\n",
      "2024-02  Elektronik    103.79\n",
      "                        ...  \n",
      "2024-03  Minuman       -18.70\n",
      "2024-04  Elektronik    -98.89\n",
      "         Fashion       -56.44\n",
      "         Makanan       -57.67\n",
      "         Minuman       -73.22\n",
      "Name: Total_Penjualan, Length: 16, dtype: float64\n"
     ]
    }
   ],
   "source": [
    "# Solusi Soal 1: Rata-rata penjualan harian per kategori\n",
    "print(\"Rata-rata Penjualan Harian per Kategori:\")\n",
    "daily_avg = df_sales.groupby(['Tanggal', 'Kategori'])['Total_Penjualan'].mean().round(2)\n",
    "print(daily_avg.head(10))\n",
    "print(\"\\n\" + \"-\"*50)\n",
    "\n",
    "# Solusi Soal 2: Produk dengan penjualan tertinggi per kota\n",
    "print(\"\\nProduk dengan Penjualan Tertinggi per Kota:\")\n",
    "top_products = df_sales.loc[df_sales.groupby('Kota')['Total_Penjualan'].idxmax()]\n",
    "print(top_products[['Kota', 'ID_Produk', 'Total_Penjualan']])\n",
    "print(\"\\n\" + \"-\"*50)\n",
    "\n",
    "# Solusi Soal 3: Distribusi metode pembayaran per kategori\n",
    "print(\"\\nDistribusi Metode Pembayaran per Kategori:\")\n",
    "payment_dist = pd.crosstab(df_sales['Kategori'], \n",
    "                          df_sales['Metode_Pembayaran'], \n",
    "                          values=df_sales['Total_Penjualan'], \n",
    "                          aggfunc='sum').round(2)\n",
    "print(payment_dist)\n",
    "print(\"\\n\" + \"-\"*50)\n",
    "\n",
    "# Solusi Soal 4: Total penjualan mingguan per kategori\n",
    "df_sales['Minggu'] = df_sales['Tanggal'].dt.isocalendar().week\n",
    "print(\"\\nTotal Penjualan Mingguan per Kategori:\")\n",
    "weekly_sales = df_sales.groupby(['Minggu', 'Kategori'])['Total_Penjualan'].sum().round(2)\n",
    "print(weekly_sales)\n",
    "print(\"\\n\" + \"-\"*50)\n",
    "\n",
    "# Solusi Soal 5: Tren penjualan per kategori\n",
    "print(\"\\nTren Penjualan per Kategori:\")\n",
    "df_sales['Bulan'] = df_sales['Tanggal'].dt.to_period('M')\n",
    "monthly_trend = df_sales.groupby(['Bulan', 'Kategori'])['Total_Penjualan'].sum().round(2)\n",
    "monthly_pct_change = monthly_trend.groupby(level=1).pct_change() * 100\n",
    "print(\"Perubahan Persentase Bulanan:\")\n",
    "print(monthly_pct_change.round(2))"
   ]
  },
  {
   "cell_type": "markdown",
   "metadata": {},
   "source": [
    "## Kesimpulan\n",
    "\n",
    "Dalam tutorial ini, kita telah mempelajari:\n",
    "\n",
    "1. Dasar-dasar grouping dengan Pandas\n",
    "   - Penggunaan `groupby()`\n",
    "   - Fungsi agregasi\n",
    "   - Multiple grouping\n",
    "\n",
    "2. Teknik-teknik agregasi lanjutan\n",
    "   - Custom aggregation\n",
    "   - Transform\n",
    "   - Pivot tables dan crosstab\n",
    "\n",
    "3. Analisis data real-world\n",
    "   - Analisis penjualan\n",
    "   - Tren temporal\n",
    "   - Distribusi kategorikal\n",
    "\n",
    "4. Tips dan Best Practices\n",
    "   - Gunakan fungsi agregasi yang sesuai dengan tipe data\n",
    "   - Manfaatkan multiple grouping untuk analisis yang lebih mendalam\n",
    "   - Perhatikan format output dan pembulatan angka\n",
    "\n",
    "Dengan pemahaman ini, Anda dapat melakukan analisis data yang lebih kompleks dan menghasilkan insights yang bermakna dari dataset Anda."
   ]
  }
 ],
 "metadata": {
  "kernelspec": {
   "display_name": "Python 3 (ipykernel)",
   "language": "python",
   "name": "python3"
  },
  "language_info": {
   "codemirror_mode": {
    "name": "ipython",
    "version": 3
   },
   "file_extension": ".py",
   "mimetype": "text/x-python",
   "name": "python",
   "nbconvert_exporter": "python",
   "pygments_lexer": "ipython3",
   "version": "3.13.2"
  }
 },
 "nbformat": 4,
 "nbformat_minor": 2
}
