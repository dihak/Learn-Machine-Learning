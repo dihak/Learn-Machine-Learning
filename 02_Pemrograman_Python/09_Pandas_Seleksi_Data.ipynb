{
 "cells": [
  {
   "cell_type": "code",
   "execution_count": null,
   "metadata": {},
   "outputs": [],
   "source": []
  },
  {
   "cell_type": "markdown",
   "metadata": {},
   "source": [
    "# Tutorial Pandas: Seleksi Data\n",
    "\n",
    "Selamat datang di tutorial Pandas untuk Seleksi Data! Dalam tutorial ini, kita akan mempelajari berbagai cara untuk melakukan seleksi dan filtering data menggunakan library Pandas di Python.\n",
    "\n",
    "## Daftar Isi:\n",
    "1. Pengenalan\n",
    "2. Import Library dan Persiapan Data\n",
    "3. Metode Seleksi Data\n",
    "   - Seleksi Kolom\n",
    "   - Seleksi Baris\n",
    "   - Seleksi Baris dan Kolom\n",
    "   - Filtering Data\n",
    "4. Studi Kasus\n",
    "5. Latihan\n",
    "\n",
    "Mari kita mulai!"
   ]
  },
  {
   "cell_type": "code",
   "execution_count": 16,
   "metadata": {},
   "outputs": [
    {
     "name": "stdout",
     "output_type": "stream",
     "text": [
      "Data Mahasiswa:\n",
      "--------------------------------------------------\n",
      "    Nama  Usia      Kota  Nilai\n",
      "0   Andi    20   Jakarta     85\n",
      "1   Budi    25   Bandung     92\n",
      "2  Citra    22  Surabaya     78\n",
      "3   Deni    28   Jakarta     95\n",
      "4    Eva    21   Bandung     88\n"
     ]
    }
   ],
   "source": [
    "# Import library yang diperlukan\n",
    "import pandas as pd\n",
    "import numpy as np\n",
    "\n",
    "# Membuat data sampel\n",
    "data = {\n",
    "    'Nama': ['Andi', 'Budi', 'Citra', 'Deni', 'Eva'],\n",
    "    'Usia': [20, 25, 22, 28, 21],\n",
    "    'Kota': ['Jakarta', 'Bandung', 'Surabaya', 'Jakarta', 'Bandung'],\n",
    "    'Nilai': [85, 92, 78, 95, 88]\n",
    "}\n",
    "\n",
    "# Membuat DataFrame\n",
    "df = pd.DataFrame(data)\n",
    "\n",
    "# Tampilkan DataFrame\n",
    "print(\"Data Mahasiswa:\")\n",
    "print(\"-\" * 50)\n",
    "print(df)"
   ]
  },
  {
   "cell_type": "markdown",
   "metadata": {},
   "source": [
    "## 1. Seleksi Kolom\n",
    "\n",
    "Dalam Pandas, kita dapat melakukan seleksi kolom dengan beberapa cara:\n",
    "1. Menggunakan nama kolom tunggal\n",
    "2. Menggunakan list untuk multiple kolom\n",
    "3. Menggunakan dot notation (.)\n",
    "\n",
    "Mari kita pelajari satu per satu:"
   ]
  },
  {
   "cell_type": "code",
   "execution_count": 17,
   "metadata": {},
   "outputs": [
    {
     "name": "stdout",
     "output_type": "stream",
     "text": [
      "Seleksi kolom 'Nama':\n",
      "0     Andi\n",
      "1     Budi\n",
      "2    Citra\n",
      "3     Deni\n",
      "4      Eva\n",
      "Name: Nama, dtype: object\n",
      "\n",
      "--------------------------------------------------\n",
      "\n",
      "Seleksi kolom 'Nama' dan 'Nilai':\n",
      "    Nama  Nilai\n",
      "0   Andi     85\n",
      "1   Budi     92\n",
      "2  Citra     78\n",
      "3   Deni     95\n",
      "4    Eva     88\n",
      "\n",
      "--------------------------------------------------\n",
      "\n",
      "Seleksi menggunakan dot notation:\n",
      "0    20\n",
      "1    25\n",
      "2    22\n",
      "3    28\n",
      "4    21\n",
      "Name: Usia, dtype: int64\n"
     ]
    }
   ],
   "source": [
    "# 1. Seleksi satu kolom\n",
    "print(\"Seleksi kolom 'Nama':\")\n",
    "print(df['Nama'])\n",
    "print(\"\\n\" + \"-\"*50)\n",
    "\n",
    "# 2. Seleksi multiple kolom\n",
    "print(\"\\nSeleksi kolom 'Nama' dan 'Nilai':\")\n",
    "print(df[['Nama', 'Nilai']])\n",
    "print(\"\\n\" + \"-\"*50)\n",
    "\n",
    "# 3. Menggunakan dot notation\n",
    "print(\"\\nSeleksi menggunakan dot notation:\")\n",
    "print(df.Usia)"
   ]
  },
  {
   "cell_type": "markdown",
   "metadata": {},
   "source": [
    "## 2. Seleksi Baris\n",
    "\n",
    "Kita dapat melakukan seleksi baris dengan beberapa metode:\n",
    "1. Menggunakan index (loc dan iloc)\n",
    "2. Menggunakan range\n",
    "3. Menggunakan kondisi (filtering)\n",
    "\n",
    "Mari kita lihat contohnya:"
   ]
  },
  {
   "cell_type": "code",
   "execution_count": 18,
   "metadata": {},
   "outputs": [
    {
     "name": "stdout",
     "output_type": "stream",
     "text": [
      "Seleksi baris dengan loc:\n",
      "Nama        Andi\n",
      "Usia          20\n",
      "Kota     Jakarta\n",
      "Nilai         85\n",
      "Name: 0, dtype: object\n",
      "\n",
      "--------------------------------------------------\n",
      "\n",
      "Seleksi baris dengan iloc:\n",
      "   Nama  Usia     Kota  Nilai\n",
      "0  Andi    20  Jakarta     85\n",
      "1  Budi    25  Bandung     92\n",
      "\n",
      "--------------------------------------------------\n",
      "\n",
      "Seleksi baris dengan kondisi (Usia > 25):\n",
      "   Nama  Usia     Kota  Nilai\n",
      "3  Deni    28  Jakarta     95\n"
     ]
    }
   ],
   "source": [
    "# 1. Menggunakan loc (label based)\n",
    "print(\"Seleksi baris dengan loc:\")\n",
    "print(df.loc[0])  # Mengambil baris pertama\n",
    "print(\"\\n\" + \"-\"*50)\n",
    "\n",
    "# 2. Menggunakan iloc (integer based)\n",
    "print(\"\\nSeleksi baris dengan iloc:\")\n",
    "print(df.iloc[0:2])  # Mengambil 2 baris pertama\n",
    "print(\"\\n\" + \"-\"*50)\n",
    "\n",
    "# 3. Menggunakan kondisi\n",
    "print(\"\\nSeleksi baris dengan kondisi (Usia > 25):\")\n",
    "print(df[df['Usia'] > 25])"
   ]
  },
  {
   "cell_type": "markdown",
   "metadata": {},
   "source": [
    "## 3. Filtering Data\n",
    "\n",
    "Filtering data adalah salah satu operasi yang paling sering digunakan dalam analisis data. Kita bisa menggunakan berbagai operator logika seperti:\n",
    "- AND (&)\n",
    "- OR (|)\n",
    "- NOT (~)\n",
    "\n",
    "Mari kita lihat beberapa contoh filtering yang lebih kompleks:"
   ]
  },
  {
   "cell_type": "code",
   "execution_count": 19,
   "metadata": {},
   "outputs": [
    {
     "name": "stdout",
     "output_type": "stream",
     "text": [
      "Mahasiswa dengan Nilai > 85 DAN Usia < 25:\n",
      "  Nama  Usia     Kota  Nilai\n",
      "4  Eva    21  Bandung     88\n",
      "\n",
      "--------------------------------------------------\n",
      "\n",
      "Mahasiswa dari Jakarta ATAU Bandung:\n",
      "   Nama  Usia     Kota  Nilai\n",
      "0  Andi    20  Jakarta     85\n",
      "1  Budi    25  Bandung     92\n",
      "3  Deni    28  Jakarta     95\n",
      "4   Eva    21  Bandung     88\n",
      "\n",
      "--------------------------------------------------\n",
      "\n",
      "Mahasiswa dengan nama mengandung huruf 'a':\n",
      "    Nama  Usia      Kota  Nilai\n",
      "2  Citra    22  Surabaya     78\n",
      "4    Eva    21   Bandung     88\n"
     ]
    }
   ],
   "source": [
    "# 1. Filter dengan AND\n",
    "print(\"Mahasiswa dengan Nilai > 85 DAN Usia < 25:\")\n",
    "print(df[(df['Nilai'] > 85) & (df['Usia'] < 25)])\n",
    "print(\"\\n\" + \"-\"*50)\n",
    "\n",
    "# 2. Filter dengan OR\n",
    "print(\"\\nMahasiswa dari Jakarta ATAU Bandung:\")\n",
    "print(df[df['Kota'].isin(['Jakarta', 'Bandung'])])\n",
    "print(\"\\n\" + \"-\"*50)\n",
    "\n",
    "# 3. Filter dengan string\n",
    "print(\"\\nMahasiswa dengan nama mengandung huruf 'a':\")\n",
    "print(df[df['Nama'].str.contains('a')])"
   ]
  },
  {
   "cell_type": "markdown",
   "metadata": {},
   "source": [
    "## 4. Studi Kasus: Analisis Data Mahasiswa\n",
    "\n",
    "Mari kita coba sebuah studi kasus yang lebih kompleks dengan dataset yang lebih besar. Kita akan menganalisis data nilai mahasiswa dari berbagai jurusan."
   ]
  },
  {
   "cell_type": "code",
   "execution_count": 20,
   "metadata": {},
   "outputs": [
    {
     "name": "stdout",
     "output_type": "stream",
     "text": [
      "Dataset Mahasiswa:\n",
      "        NIM          Nama           Jurusan   IPK  Semester Status\n",
      "0   2023000   Mahasiswa_0      Data Science  2.77         4  Aktif\n",
      "1   2023001   Mahasiswa_1       Informatika  2.78         6  Aktif\n",
      "2   2023002   Mahasiswa_2      Data Science  2.96         2  Aktif\n",
      "3   2023003   Mahasiswa_3      Data Science  3.29         2  Aktif\n",
      "4   2023004   Mahasiswa_4       Informatika  3.15         1  Aktif\n",
      "..      ...           ...               ...   ...       ...    ...\n",
      "15  2023015  Mahasiswa_15       Informatika  2.57         8  Aktif\n",
      "16  2023016  Mahasiswa_16  Sistem Informasi  3.41         7  Aktif\n",
      "17  2023017  Mahasiswa_17  Sistem Informasi  2.76         3  Aktif\n",
      "18  2023018  Mahasiswa_18  Sistem Informasi  2.60         6  Aktif\n",
      "19  2023019  Mahasiswa_19  Sistem Informasi  3.92         1  Aktif\n",
      "\n",
      "[20 rows x 6 columns]\n"
     ]
    }
   ],
   "source": [
    "# Membuat dataset yang lebih besar\n",
    "np.random.seed(42)\n",
    "n = 20\n",
    "\n",
    "data_mahasiswa = {\n",
    "    'NIM': [f'2023{str(i).zfill(3)}' for i in range(n)],\n",
    "    'Nama': [f'Mahasiswa_{i}' for i in range(n)],\n",
    "    'Jurusan': np.random.choice(['Informatika', 'Sistem Informasi', 'Data Science'], n),\n",
    "    'IPK': np.random.uniform(2.5, 4.0, n).round(2),\n",
    "    'Semester': np.random.randint(1, 9, n),\n",
    "    'Status': np.random.choice(['Aktif', 'Cuti'], n, p=[0.9, 0.1])\n",
    "}\n",
    "\n",
    "df_mahasiswa = pd.DataFrame(data_mahasiswa)\n",
    "print(\"Dataset Mahasiswa:\")\n",
    "print(df_mahasiswa)"
   ]
  },
  {
   "cell_type": "markdown",
   "metadata": {},
   "source": [
    "### Analisis Data Mahasiswa\n",
    "\n",
    "Mari kita lakukan beberapa analisis menggunakan teknik seleksi data yang telah kita pelajari:"
   ]
  },
  {
   "cell_type": "code",
   "execution_count": 21,
   "metadata": {},
   "outputs": [
    {
     "name": "stdout",
     "output_type": "stream",
     "text": [
      "IPK Tertinggi per Jurusan:\n",
      "        NIM          Nama           Jurusan   IPK  Semester Status\n",
      "11  2023011  Mahasiswa_11      Data Science  3.68         4   Cuti\n",
      "4   2023004   Mahasiswa_4       Informatika  3.15         1  Aktif\n",
      "19  2023019  Mahasiswa_19  Sistem Informasi  3.92         1  Aktif\n",
      "\n",
      "--------------------------------------------------\n",
      "\n",
      "Mahasiswa Semester Atas dengan IPK Tinggi:\n",
      "Empty DataFrame\n",
      "Columns: [NIM, Nama, Jurusan, IPK, Semester, Status]\n",
      "Index: []\n",
      "\n",
      "--------------------------------------------------\n",
      "\n",
      "Rata-rata IPK per Jurusan:\n",
      "Jurusan\n",
      "Data Science        3.17\n",
      "Informatika         2.85\n",
      "Sistem Informasi    3.13\n",
      "Name: IPK, dtype: float64\n",
      "\n",
      "--------------------------------------------------\n",
      "\n",
      "Distribusi Status per Jurusan:\n",
      "Status            Aktif  Cuti\n",
      "Jurusan                      \n",
      "Data Science          6     3\n",
      "Informatika           5     0\n",
      "Sistem Informasi      6     0\n"
     ]
    }
   ],
   "source": [
    "# 1. Mencari mahasiswa dengan IPK tertinggi di setiap jurusan\n",
    "print(\"IPK Tertinggi per Jurusan:\")\n",
    "print(df_mahasiswa.loc[df_mahasiswa.groupby('Jurusan')['IPK'].idxmax()])\n",
    "print(\"\\n\" + \"-\"*50)\n",
    "\n",
    "# 2. Mencari mahasiswa semester atas (>6) dengan IPK > 3.5\n",
    "print(\"\\nMahasiswa Semester Atas dengan IPK Tinggi:\")\n",
    "print(df_mahasiswa[(df_mahasiswa['Semester'] > 6) & (df_mahasiswa['IPK'] > 3.5)])\n",
    "print(\"\\n\" + \"-\"*50)\n",
    "\n",
    "# 3. Rata-rata IPK per jurusan\n",
    "print(\"\\nRata-rata IPK per Jurusan:\")\n",
    "print(df_mahasiswa.groupby('Jurusan')['IPK'].mean().round(2))\n",
    "print(\"\\n\" + \"-\"*50)\n",
    "\n",
    "# 4. Distribusi status mahasiswa per jurusan\n",
    "print(\"\\nDistribusi Status per Jurusan:\")\n",
    "print(pd.crosstab(df_mahasiswa['Jurusan'], df_mahasiswa['Status']))"
   ]
  },
  {
   "cell_type": "markdown",
   "metadata": {},
   "source": [
    "## 5. Latihan\n",
    "\n",
    "Gunakan dataset mahasiswa di atas untuk menyelesaikan soal-soal berikut:\n",
    "\n",
    "1. Tampilkan daftar mahasiswa Informatika yang memiliki IPK di atas rata-rata jurusannya\n",
    "2. Temukan mahasiswa dengan IPK tertinggi di setiap semester\n",
    "3. Hitung berapa mahasiswa yang memiliki IPK di atas 3.0 untuk setiap jurusan\n",
    "4. Tampilkan daftar mahasiswa yang berada di semester ganjil dan memiliki IPK > 3.0\n",
    "5. Buat analisis distribusi IPK (rendah < 2.75, sedang 2.75-3.5, tinggi > 3.5) untuk setiap jurusan\n",
    "\n",
    "Berikut adalah template kode untuk memulai latihan:"
   ]
  },
  {
   "cell_type": "code",
   "execution_count": 23,
   "metadata": {},
   "outputs": [],
   "source": [
    "# Template untuk latihan\n",
    "\n",
    "# Soal 1: Mahasiswa Informatika dengan IPK di atas rata-rata jurusan\n",
    "rata_rata_informatika = df_mahasiswa[df_mahasiswa['Jurusan'] == 'Informatika']['IPK'].mean()\n",
    "# Lengkapi kode di sini...\n",
    "\n",
    "# Soal 2: IPK tertinggi per semester\n",
    "# Lengkapi kode di sini...\n",
    "\n",
    "# Soal 3: Jumlah mahasiswa dengan IPK > 3.0 per jurusan\n",
    "# Lengkapi kode di sini...\n",
    "\n",
    "# Soal 4: Mahasiswa semester ganjil dengan IPK > 3.0\n",
    "# Lengkapi kode di sini...\n",
    "\n",
    "# Soal 5: Distribusi IPK per jurusan\n",
    "# Lengkapi kode di sini..."
   ]
  },
  {
   "cell_type": "markdown",
   "metadata": {},
   "source": [
    "### Solusi Latihan\n",
    "\n",
    "Berikut adalah solusi untuk latihan di atas. Cobalah untuk mengerjakan sendiri terlebih dahulu sebelum melihat solusi!"
   ]
  },
  {
   "cell_type": "code",
   "execution_count": 25,
   "metadata": {},
   "outputs": [
    {
     "name": "stdout",
     "output_type": "stream",
     "text": [
      "Mahasiswa Informatika dengan IPK di atas rata-rata jurusan:\n",
      "       NIM         Nama      Jurusan   IPK  Semester Status\n",
      "4  2023004  Mahasiswa_4  Informatika  3.15         1  Aktif\n",
      "5  2023005  Mahasiswa_5  Informatika  2.94         2  Aktif\n",
      "\n",
      "--------------------------------------------------\n",
      "\n",
      "IPK tertinggi per semester:\n",
      "        NIM          Nama           Jurusan   IPK  Semester Status\n",
      "19  2023019  Mahasiswa_19  Sistem Informasi  3.92         1  Aktif\n",
      "3   2023003   Mahasiswa_3      Data Science  3.29         2  Aktif\n",
      "17  2023017  Mahasiswa_17  Sistem Informasi  2.76         3  Aktif\n",
      "11  2023011  Mahasiswa_11      Data Science  3.68         4   Cuti\n",
      "6   2023006   Mahasiswa_6      Data Science  3.42         5   Cuti\n",
      "1   2023001   Mahasiswa_1       Informatika  2.78         6  Aktif\n",
      "16  2023016  Mahasiswa_16  Sistem Informasi  3.41         7  Aktif\n",
      "15  2023015  Mahasiswa_15       Informatika  2.57         8  Aktif\n",
      "\n",
      "--------------------------------------------------\n",
      "\n",
      "Jumlah mahasiswa dengan IPK > 3.0 per jurusan:\n",
      "Jurusan\n",
      "Data Science        6\n",
      "Informatika         1\n",
      "Sistem Informasi    3\n",
      "dtype: int64\n",
      "\n",
      "--------------------------------------------------\n",
      "\n",
      "Mahasiswa semester ganjil dengan IPK > 3.0:\n",
      "        NIM          Nama           Jurusan   IPK  Semester Status\n",
      "4   2023004   Mahasiswa_4       Informatika  3.15         1  Aktif\n",
      "6   2023006   Mahasiswa_6      Data Science  3.42         5   Cuti\n",
      "10  2023010  Mahasiswa_10      Data Science  3.18         7  Aktif\n",
      "14  2023014  Mahasiswa_14  Sistem Informasi  3.39         5  Aktif\n",
      "16  2023016  Mahasiswa_16  Sistem Informasi  3.41         7  Aktif\n",
      "19  2023019  Mahasiswa_19  Sistem Informasi  3.92         1  Aktif\n",
      "\n",
      "--------------------------------------------------\n",
      "\n",
      "Distribusi IPK per jurusan:\n",
      "Kategori_IPK      Rendah  Sedang  Tinggi\n",
      "Jurusan                                 \n",
      "Data Science           0       8       1\n",
      "Informatika            1       4       0\n",
      "Sistem Informasi       2       3       1\n"
     ]
    }
   ],
   "source": [
    "# Solusi Soal 1\n",
    "print(\"Mahasiswa Informatika dengan IPK di atas rata-rata jurusan:\")\n",
    "rata_rata_informatika = df_mahasiswa[df_mahasiswa['Jurusan'] == 'Informatika']['IPK'].mean()\n",
    "print(df_mahasiswa[(df_mahasiswa['Jurusan'] == 'Informatika') & \n",
    "                   (df_mahasiswa['IPK'] > rata_rata_informatika)])\n",
    "print(\"\\n\" + \"-\"*50)\n",
    "\n",
    "# Solusi Soal 2\n",
    "print(\"\\nIPK tertinggi per semester:\")\n",
    "print(df_mahasiswa.loc[df_mahasiswa.groupby('Semester')['IPK'].idxmax()])\n",
    "print(\"\\n\" + \"-\"*50)\n",
    "\n",
    "# Solusi Soal 3\n",
    "print(\"\\nJumlah mahasiswa dengan IPK > 3.0 per jurusan:\")\n",
    "print(df_mahasiswa[df_mahasiswa['IPK'] > 3.0].groupby('Jurusan').size())\n",
    "print(\"\\n\" + \"-\"*50)\n",
    "\n",
    "# Solusi Soal 4\n",
    "print(\"\\nMahasiswa semester ganjil dengan IPK > 3.0:\")\n",
    "print(df_mahasiswa[(df_mahasiswa['Semester'] % 2 == 1) & \n",
    "                   (df_mahasiswa['IPK'] > 3.0)])\n",
    "print(\"\\n\" + \"-\"*50)\n",
    "\n",
    "# Solusi Soal 5\n",
    "print(\"\\nDistribusi IPK per jurusan:\")\n",
    "def kategori_ipk(ipk):\n",
    "    if ipk < 2.75:\n",
    "        return 'Rendah'\n",
    "    elif ipk <= 3.5:\n",
    "        return 'Sedang'\n",
    "    else:\n",
    "        return 'Tinggi'\n",
    "\n",
    "df_mahasiswa['Kategori_IPK'] = df_mahasiswa['IPK'].apply(kategori_ipk)\n",
    "print(pd.crosstab(df_mahasiswa['Jurusan'], df_mahasiswa['Kategori_IPK']))"
   ]
  }
 ],
 "metadata": {
  "kernelspec": {
   "display_name": "Python 3 (ipykernel)",
   "language": "python",
   "name": "python3"
  },
  "language_info": {
   "codemirror_mode": {
    "name": "ipython",
    "version": 3
   },
   "file_extension": ".py",
   "mimetype": "text/x-python",
   "name": "python",
   "nbconvert_exporter": "python",
   "pygments_lexer": "ipython3",
   "version": "3.13.2"
  }
 },
 "nbformat": 4,
 "nbformat_minor": 2
}
