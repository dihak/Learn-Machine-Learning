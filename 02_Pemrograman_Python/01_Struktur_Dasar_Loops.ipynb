{
 "cells": [
  {
   "cell_type": "markdown",
   "metadata": {},
   "source": []
  },
  {
   "cell_type": "markdown",
   "metadata": {},
   "source": [
    "# Struktur Dasar Loops di Python\n",
    "\n",
    "Pada notebook ini, kita akan membahas konsep dasar perulangan (loops) dalam Python yang sering digunakan dalam machine learning.\n",
    "\n",
    "## Apa itu Loops?\n",
    "\n",
    "Loops atau perulangan adalah struktur kontrol yang memungkinkan kita untuk mengeksekusi serangkaian pernyataan secara berulang. Python menyediakan dua jenis dasar perulangan:\n",
    "1. `for` loop - untuk iterasi melalui sequence (list, tuple, string, dll)\n",
    "2. `while` loop - untuk mengeksekusi pernyataan selama kondisi tertentu terpenuhi\n",
    "\n",
    "## Pentingnya Loops dalam Machine Learning\n",
    "\n",
    "Dalam machine learning, loops sangat penting untuk:\n",
    "- Iterasi melalui dataset\n",
    "- Proses training model\n",
    "- Batch processing\n",
    "- Cross-validation\n",
    "- Feature engineering"
   ]
  },
  {
   "cell_type": "code",
   "execution_count": 17,
   "metadata": {},
   "outputs": [
    {
     "name": "stdout",
     "output_type": "stream",
     "text": [
      "1. For loop sederhana:\n",
      "Iterasi ke-0\n",
      "Iterasi ke-1\n",
      "Iterasi ke-2\n",
      "Iterasi ke-3\n",
      "Iterasi ke-4\n",
      "\n",
      "2. For loop dengan list:\n",
      "Buah: apel\n",
      "Buah: jeruk\n",
      "Buah: mangga\n",
      "Buah: pisang\n",
      "\n",
      "3. While loop:\n",
      "Counter: 0\n",
      "Counter: 1\n",
      "Counter: 2\n",
      "Counter: 3\n",
      "Counter: 4\n"
     ]
    }
   ],
   "source": [
    "# Import library yang diperlukan\n",
    "import numpy as np\n",
    "import matplotlib.pyplot as plt\n",
    "\n",
    "# Contoh sederhana for loop\n",
    "print(\"1. For loop sederhana:\")\n",
    "for i in range(5):\n",
    "    print(f\"Iterasi ke-{i}\")\n",
    "\n",
    "# Contoh for loop dengan list\n",
    "print(\"\\n2. For loop dengan list:\")\n",
    "fruits = ['apel', 'jeruk', 'mangga', 'pisang']\n",
    "for fruit in fruits:\n",
    "    print(f\"Buah: {fruit}\")\n",
    "\n",
    "# Contoh while loop\n",
    "print(\"\\n3. While loop:\")\n",
    "counter = 0\n",
    "while counter < 5:\n",
    "    print(f\"Counter: {counter}\")\n",
    "    counter += 1"
   ]
  },
  {
   "cell_type": "markdown",
   "metadata": {},
   "source": [
    "## For Loop dengan Range\n",
    "\n",
    "`range()` adalah fungsi built-in Python yang sering digunakan dalam for loop. Ada tiga cara menggunakan `range()`:\n",
    "1. `range(stop)` - mulai dari 0, increment 1\n",
    "2. `range(start, stop)` - mulai dari start, increment 1\n",
    "3. `range(start, stop, step)` - mulai dari start, dengan increment step\n",
    "\n",
    "Berikut adalah contoh penggunaan range dalam konteks machine learning sederhana:"
   ]
  },
  {
   "cell_type": "code",
   "execution_count": 18,
   "metadata": {},
   "outputs": [
    {
     "name": "stdout",
     "output_type": "stream",
     "text": [
      "\n",
      "Learning rate: 0.1\n",
      "Iterasi 0: Loss = 0.9000\n",
      "Iterasi 1: Loss = 0.8100\n",
      "Iterasi 2: Loss = 0.7290\n",
      "Iterasi 3: Loss = 0.6561\n",
      "Iterasi 4: Loss = 0.5905\n",
      "\n",
      "Learning rate: 0.01\n",
      "Iterasi 0: Loss = 0.9900\n",
      "Iterasi 1: Loss = 0.9801\n",
      "Iterasi 2: Loss = 0.9703\n",
      "Iterasi 3: Loss = 0.9606\n",
      "Iterasi 4: Loss = 0.9510\n",
      "\n",
      "Learning rate: 0.001\n",
      "Iterasi 0: Loss = 0.9990\n",
      "Iterasi 1: Loss = 0.9980\n",
      "Iterasi 2: Loss = 0.9970\n",
      "Iterasi 3: Loss = 0.9960\n",
      "Iterasi 4: Loss = 0.9950\n",
      "\n",
      "Range dengan start, stop, dan step:\n",
      "Epoch 0\n",
      "Epoch 2\n",
      "Epoch 4\n",
      "Epoch 6\n",
      "Epoch 8\n"
     ]
    }
   ],
   "source": [
    "# Contoh penggunaan range dalam machine learning\n",
    "\n",
    "# Simulasi gradient descent sederhana\n",
    "learning_rates = [0.1, 0.01, 0.001]\n",
    "iterations = range(5)  # 5 iterasi\n",
    "\n",
    "for lr in learning_rates:\n",
    "    print(f\"\\nLearning rate: {lr}\")\n",
    "    loss = 1.0  # Initial loss\n",
    "    \n",
    "    for i in iterations:\n",
    "        # Simulasi penurunan loss\n",
    "        loss *= (1 - lr)\n",
    "        print(f\"Iterasi {i}: Loss = {loss:.4f}\")\n",
    "\n",
    "# Contoh range dengan start, stop, dan step\n",
    "print(\"\\nRange dengan start, stop, dan step:\")\n",
    "for epoch in range(0, 10, 2):  # dari 0 sampai 9, dengan step 2\n",
    "    print(f\"Epoch {epoch}\")"
   ]
  },
  {
   "cell_type": "markdown",
   "metadata": {},
   "source": [
    "## Loop Controls: break, continue, dan else\n",
    "\n",
    "Python menyediakan beberapa statement kontrol untuk memanipulasi perilaku loop:\n",
    "\n",
    "1. `break` - menghentikan loop secara keseluruhan\n",
    "2. `continue` - melompati iterasi saat ini dan melanjutkan ke iterasi berikutnya\n",
    "3. `else` - blok yang dieksekusi ketika loop selesai secara normal (tanpa break)\n",
    "\n",
    "Berikut contoh penggunaan kontrol loop dalam konteks machine learning:"
   ]
  },
  {
   "cell_type": "code",
   "execution_count": 20,
   "metadata": {},
   "outputs": [
    {
     "name": "stdout",
     "output_type": "stream",
     "text": [
      "Simulasi training dengan early stopping:\n",
      "Epoch 0: Loss = 0.9000\n",
      "Epoch 1: Loss = 0.8100\n",
      "Epoch 2: Loss = 0.7290\n",
      "Epoch 3: Loss = 0.6561\n",
      "Target loss tercapai! Menghentikan training.\n",
      "\n",
      "Contoh penggunaan continue:\n",
      "Melewati sample negatif: -1\n",
      "Melewati sample negatif: -2\n",
      "Melewati sample negatif: -3\n",
      "Melewati sample negatif: -4\n",
      "Sample valid: [1, 2, 3, 4]\n"
     ]
    }
   ],
   "source": [
    "# Contoh early stopping dalam training\n",
    "max_epochs = 10\n",
    "target_loss = 0.7\n",
    "current_loss = 1.0\n",
    "learning_rate = 0.1\n",
    "\n",
    "print(\"Simulasi training dengan early stopping:\")\n",
    "for epoch in range(max_epochs):\n",
    "    # Simulasi training\n",
    "    current_loss *= (1 - learning_rate)\n",
    "    print(f\"Epoch {epoch}: Loss = {current_loss:.4f}\")\n",
    "    \n",
    "    # Early stopping\n",
    "    if current_loss < target_loss:\n",
    "        print(f\"Target loss tercapai! Menghentikan training.\")\n",
    "        break\n",
    "else:\n",
    "    print(\"Training selesai tanpa mencapai target loss\")\n",
    "\n",
    "print(\"\\nContoh penggunaan continue:\")\n",
    "# Simulasi skip bad samples\n",
    "samples = [1, -1, 2, -2, 3, -3, 4, -4]\n",
    "valid_samples = []\n",
    "\n",
    "for sample in samples:\n",
    "    if sample < 0:\n",
    "        print(f\"Melewati sample negatif: {sample}\")\n",
    "        continue\n",
    "    valid_samples.append(sample)\n",
    "    \n",
    "print(f\"Sample valid: {valid_samples}\")"
   ]
  },
  {
   "cell_type": "markdown",
   "metadata": {},
   "source": [
    "## List Comprehension\n",
    "\n",
    "List comprehension adalah cara singkat dan ekspresif untuk membuat list dalam Python. Ini sangat berguna dalam machine learning untuk transformasi data dan feature engineering.\n",
    "\n",
    "Syntax dasar:\n",
    "```python\n",
    "[expression for item in iterable if condition]\n",
    "```\n",
    "\n",
    "Berikut beberapa contoh penggunaan list comprehension dalam konteks machine learning:"
   ]
  },
  {
   "cell_type": "code",
   "execution_count": 22,
   "metadata": {},
   "outputs": [
    {
     "name": "stdout",
     "output_type": "stream",
     "text": [
      "1. Nilai absolut features: [1, 2, 3, 4, 5, 6, 7, 8]\n",
      "2. Features positif: [1, 3, 5, 7]\n",
      "3. Features ternormalisasi: [0.125, 0.25, 0.375, 0.5, 0.625, 0.75, 0.875, 1.0]\n",
      "\n",
      "4. Matrix 3x3 menggunakan nested list comprehension:\n",
      "[0, 0, 0]\n",
      "[0, 1, 2]\n",
      "[0, 2, 4]\n"
     ]
    }
   ],
   "source": [
    "# Data mentah\n",
    "raw_features = [1, -2, 3, -4, 5, -6, 7, -8]\n",
    "\n",
    "# 1. Basic list comprehension: mengambil nilai absolut\n",
    "abs_features = [abs(x) for x in raw_features]\n",
    "print(\"1. Nilai absolut features:\", abs_features)\n",
    "\n",
    "# 2. List comprehension dengan kondisi: filter nilai positif\n",
    "positive_features = [x for x in raw_features if x > 0]\n",
    "print(\"2. Features positif:\", positive_features)\n",
    "\n",
    "# 3. List comprehension untuk normalisasi sederhana\n",
    "max_value = max(abs_features)\n",
    "normalized_features = [x/max_value for x in abs_features]\n",
    "print(\"3. Features ternormalisasi:\", normalized_features)\n",
    "\n",
    "# 4. List comprehension nested: membuat matrix\n",
    "matrix = [[i*j for j in range(3)] for i in range(3)]\n",
    "print(\"\\n4. Matrix 3x3 menggunakan nested list comprehension:\")\n",
    "for row in matrix:\n",
    "    print(row)"
   ]
  },
  {
   "cell_type": "markdown",
   "metadata": {},
   "source": [
    "## Nested Loops\n",
    "\n",
    "Nested loops (perulangan bersarang) sering digunakan dalam machine learning, terutama ketika bekerja dengan data multidimensi atau melakukan cross-validation. Berikut adalah contoh penggunaan nested loops:"
   ]
  },
  {
   "cell_type": "code",
   "execution_count": 26,
   "metadata": {},
   "outputs": [
    {
     "name": "stdout",
     "output_type": "stream",
     "text": [
      "\n",
      "Fold 1:\n",
      "Training data: [ 3  4  5  6  7  8  9 10]\n",
      "Validation data: [1 2]\n",
      "Epoch 1: Training Loss = 1.0000\n",
      "Epoch 2: Training Loss = 0.5000\n",
      "\n",
      "Fold 2:\n",
      "Training data: [ 1  2  5  6  7  8  9 10]\n",
      "Validation data: [3 4]\n",
      "Epoch 1: Training Loss = 0.5000\n",
      "Epoch 2: Training Loss = 0.3333\n",
      "\n",
      "Fold 3:\n",
      "Training data: [ 1  2  3  4  7  8  9 10]\n",
      "Validation data: [5 6]\n",
      "Epoch 1: Training Loss = 0.3333\n",
      "Epoch 2: Training Loss = 0.2500\n",
      "\n",
      "Fold 4:\n",
      "Training data: [ 1  2  3  4  5  6  9 10]\n",
      "Validation data: [7 8]\n",
      "Epoch 1: Training Loss = 0.2500\n",
      "Epoch 2: Training Loss = 0.2000\n",
      "\n",
      "Fold 5:\n",
      "Training data: [1 2 3 4 5 6 7 8]\n",
      "Validation data: [ 9 10]\n",
      "Epoch 1: Training Loss = 0.2000\n",
      "Epoch 2: Training Loss = 0.1667\n"
     ]
    }
   ],
   "source": [
    "# Simulasi k-fold cross validation sederhana\n",
    "import numpy as np\n",
    "\n",
    "# Generate sample data\n",
    "X = np.array([1, 2, 3, 4, 5, 6, 7, 8, 9, 10])\n",
    "k_folds = 5\n",
    "fold_size = len(X) // k_folds\n",
    "\n",
    "# Implementasi k-fold cross validation\n",
    "for fold in range(k_folds):\n",
    "    # Tentukan indeks untuk validation set\n",
    "    val_start = fold * fold_size\n",
    "    val_end = (fold + 1) * fold_size\n",
    "    \n",
    "    # Split data\n",
    "    val_data = X[val_start:val_end]\n",
    "    train_data = np.concatenate([X[:val_start], X[val_end:]])\n",
    "    \n",
    "    print(f\"\\nFold {fold + 1}:\")\n",
    "    print(f\"Training data: {train_data}\")\n",
    "    print(f\"Validation data: {val_data}\")\n",
    "    \n",
    "    # Simulasi training dan validasi\n",
    "    for epoch in range(2):  # 2 epoch per fold\n",
    "        train_loss = 1.0 / (epoch + fold + 1)  # Simulasi loss\n",
    "        print(f\"Epoch {epoch + 1}: Training Loss = {train_loss:.4f}\")"
   ]
  },
  {
   "cell_type": "markdown",
   "metadata": {},
   "source": [
    "## Latihan\n",
    "\n",
    "1. Buatlah program untuk menghitung rata-rata bergerak (moving average) dari sebuah list data menggunakan for loop.\n",
    "2. Implementasikan early stopping dengan patience (menunggu beberapa epoch sebelum berhenti jika tidak ada improvement).\n",
    "3. Gunakan nested loop untuk membuat matriks confusion 3x3 untuk klasifikasi multi-kelas.\n",
    "\n",
    "Mari kita selesaikan latihan pertama sebagai contoh:"
   ]
  },
  {
   "cell_type": "code",
   "execution_count": 27,
   "metadata": {},
   "outputs": [
    {
     "name": "stdout",
     "output_type": "stream",
     "text": [
      "Moving averages (window size = 3):\n",
      "Data 0-2: 3.0\n",
      "Data 1-3: 5.0\n",
      "Data 2-4: 7.0\n",
      "Data 3-5: 9.0\n",
      "Data 4-6: 11.0\n",
      "Data 5-7: 13.0\n",
      "Data 6-8: 15.0\n",
      "Data 7-9: 17.0\n"
     ]
    },
    {
     "data": {
      "image/png": "[encoded data removed]",
      "text/plain": [
       "<Figure size 1000x500 with 1 Axes>"
      ]
     },
     "metadata": {},
     "output_type": "display_data",
     "transient": {}
    }
   ],
   "source": [
    "# Latihan 1: Moving Average\n",
    "data = [1, 3, 5, 7, 9, 11, 13, 15, 17, 19]\n",
    "window_size = 3\n",
    "\n",
    "# Cara 1: Menggunakan for loop biasa\n",
    "moving_averages = []\n",
    "for i in range(len(data) - window_size + 1):\n",
    "    window = data[i:i + window_size]\n",
    "    avg = sum(window) / window_size\n",
    "    moving_averages.append(avg)\n",
    "\n",
    "print(\"Moving averages (window size = 3):\")\n",
    "for i, avg in enumerate(moving_averages):\n",
    "    print(f\"Data {i}-{i+2}: {avg}\")\n",
    "\n",
    "# Visualisasi\n",
    "plt.figure(figsize=(10, 5))\n",
    "plt.plot(data, 'b-', label='Data asli')\n",
    "plt.plot(range(window_size-1, len(data)), moving_averages, 'r-', label='Moving average')\n",
    "plt.title('Moving Average dengan Window Size 3')\n",
    "plt.xlabel('Index')\n",
    "plt.ylabel('Nilai')\n",
    "plt.legend()\n",
    "plt.grid(True)\n",
    "plt.show()"
   ]
  },
  {
   "cell_type": "markdown",
   "metadata": {},
   "source": [
    "## Kesimpulan\n",
    "\n",
    "Dalam notebook ini, kita telah mempelajari:\n",
    "1. Dasar-dasar penggunaan `for` dan `while` loops\n",
    "2. Kontrol loop dengan `break`, `continue`, dan `else`\n",
    "3. List comprehension untuk manipulasi data\n",
    "4. Nested loops dan aplikasinya dalam machine learning\n",
    "5. Contoh praktis penggunaan loops dalam konteks machine learning\n",
    "\n",
    "Loops adalah fundamental dalam pemrograman Python dan machine learning, digunakan untuk:\n",
    "- Iterasi dataset\n",
    "- Proses training model\n",
    "- Cross-validation\n",
    "- Feature engineering\n",
    "- Data preprocessing\n",
    "\n",
    "Pada notebook selanjutnya, kita akan membahas struktur kondisional (if-else) dalam Python."
   ]
  }
 ],
 "metadata": {
  "kernelspec": {
   "display_name": "Python 3 (ipykernel)",
   "language": "python",
   "name": "python3"
  },
  "language_info": {
   "codemirror_mode": {
    "name": "ipython",
    "version": 3
   },
   "file_extension": ".py",
   "mimetype": "text/x-python",
   "name": "python",
   "nbconvert_exporter": "python",
   "pygments_lexer": "ipython3",
   "version": "3.13.2"
  }
 },
 "nbformat": 4,
 "nbformat_minor": 2
}
