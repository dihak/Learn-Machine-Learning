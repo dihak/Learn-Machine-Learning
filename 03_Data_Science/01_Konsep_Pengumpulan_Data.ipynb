{
 "cells": [
  {
   "cell_type": "markdown",
   "metadata": {},
   "source": []
  },
  {
   "cell_type": "markdown",
   "metadata": {},
   "source": [
    "# Konsep Pengumpulan Data\n",
    "\n",
    "Pada notebook ini, kita akan membahas konsep dasar pengumpulan data yang penting dalam data science dan machine learning.\n",
    "\n",
    "## Apa itu Pengumpulan Data?\n",
    "\n",
    "Pengumpulan data adalah proses mengumpulkan dan mengukur informasi dari berbagai sumber untuk mendapatkan gambaran lengkap dan akurat tentang area yang diminati. Dalam konteks data science, pengumpulan data adalah langkah fundamental yang menentukan kualitas analisis dan model yang akan dibangun.\n",
    "\n",
    "## Jenis-jenis Data\n",
    "\n",
    "1. **Data Kuantitatif**\n",
    "   - Data numerik yang dapat diukur\n",
    "   - Contoh: tinggi badan, berat badan, suhu, harga\n",
    "\n",
    "2. **Data Kualitatif**\n",
    "   - Data deskriptif yang tidak dapat diukur secara numerik\n",
    "   - Contoh: warna, jenis kelamin, tingkat kepuasan\n",
    "\n",
    "## Metode Pengumpulan Data\n",
    "\n",
    "1. **Survei dan Kuesioner**\n",
    "2. **Wawancara**\n",
    "3. **Observasi**\n",
    "4. **Eksperimen**\n",
    "5. **Data Logging**\n",
    "6. **Web Scraping**\n",
    "7. **API**\n",
    "8. **Database"
   ]
  },
  {
   "cell_type": "code",
   "execution_count": 23,
   "metadata": {},
   "outputs": [
    {
     "ename": "OSError",
     "evalue": "'seaborn' is not a valid package style, path of style file, URL of style file, or library style name (library styles are listed in `style.available`)",
     "output_type": "error",
     "traceback": [
      "\u001b[31m---------------------------------------------------------------------------\u001b[39m",
      "\u001b[31mFileNotFoundError\u001b[39m                         Traceback (most recent call last)",
      "\u001b[36mFile \u001b[39m\u001b[32m~/.local/lib/python3.13/site-packages/matplotlib/style/core.py:129\u001b[39m, in \u001b[36muse\u001b[39m\u001b[34m(style)\u001b[39m\n\u001b[32m    128\u001b[39m \u001b[38;5;28;01mtry\u001b[39;00m:\n\u001b[32m--> \u001b[39m\u001b[32m129\u001b[39m     style = \u001b[43m_rc_params_in_file\u001b[49m\u001b[43m(\u001b[49m\u001b[43mstyle\u001b[49m\u001b[43m)\u001b[49m\n\u001b[32m    130\u001b[39m \u001b[38;5;28;01mexcept\u001b[39;00m \u001b[38;5;167;01mOSError\u001b[39;00m \u001b[38;5;28;01mas\u001b[39;00m err:\n",
      "\u001b[36mFile \u001b[39m\u001b[32m~/.local/lib/python3.13/site-packages/matplotlib/__init__.py:903\u001b[39m, in \u001b[36m_rc_params_in_file\u001b[39m\u001b[34m(fname, transform, fail_on_error)\u001b[39m\n\u001b[32m    902\u001b[39m rc_temp = {}\n\u001b[32m--> \u001b[39m\u001b[32m903\u001b[39m \u001b[43m\u001b[49m\u001b[38;5;28;43;01mwith\u001b[39;49;00m\u001b[43m \u001b[49m\u001b[43m_open_file_or_url\u001b[49m\u001b[43m(\u001b[49m\u001b[43mfname\u001b[49m\u001b[43m)\u001b[49m\u001b[43m \u001b[49m\u001b[38;5;28;43;01mas\u001b[39;49;00m\u001b[43m \u001b[49m\u001b[43mfd\u001b[49m\u001b[43m:\u001b[49m\n\u001b[32m    904\u001b[39m \u001b[43m    \u001b[49m\u001b[38;5;28;43;01mtry\u001b[39;49;00m\u001b[43m:\u001b[49m\n",
      "\u001b[36mFile \u001b[39m\u001b[32m/usr/lib/python3.13/contextlib.py:141\u001b[39m, in \u001b[36m_GeneratorContextManager.__enter__\u001b[39m\u001b[34m(self)\u001b[39m\n\u001b[32m    140\u001b[39m \u001b[38;5;28;01mtry\u001b[39;00m:\n\u001b[32m--> \u001b[39m\u001b[32m141\u001b[39m     \u001b[38;5;28;01mreturn\u001b[39;00m \u001b[38;5;28;43mnext\u001b[39;49m\u001b[43m(\u001b[49m\u001b[38;5;28;43mself\u001b[39;49m\u001b[43m.\u001b[49m\u001b[43mgen\u001b[49m\u001b[43m)\u001b[49m\n\u001b[32m    142\u001b[39m \u001b[38;5;28;01mexcept\u001b[39;00m \u001b[38;5;167;01mStopIteration\u001b[39;00m:\n",
      "\u001b[36mFile \u001b[39m\u001b[32m~/.local/lib/python3.13/site-packages/matplotlib/__init__.py:880\u001b[39m, in \u001b[36m_open_file_or_url\u001b[39m\u001b[34m(fname)\u001b[39m\n\u001b[32m    879\u001b[39m fname = os.path.expanduser(fname)\n\u001b[32m--> \u001b[39m\u001b[32m880\u001b[39m \u001b[38;5;28;01mwith\u001b[39;00m \u001b[38;5;28;43mopen\u001b[39;49m\u001b[43m(\u001b[49m\u001b[43mfname\u001b[49m\u001b[43m,\u001b[49m\u001b[43m \u001b[49m\u001b[43mencoding\u001b[49m\u001b[43m=\u001b[49m\u001b[33;43m'\u001b[39;49m\u001b[33;43mutf-8\u001b[39;49m\u001b[33;43m'\u001b[39;49m\u001b[43m)\u001b[49m \u001b[38;5;28;01mas\u001b[39;00m f:\n\u001b[32m    881\u001b[39m     \u001b[38;5;28;01myield\u001b[39;00m f\n",
      "\u001b[31mFileNotFoundError\u001b[39m: [Errno 2] No such file or directory: 'seaborn'",
      "\nThe above exception was the direct cause of the following exception:\n",
      "\u001b[31mOSError\u001b[39m                                   Traceback (most recent call last)",
      "\u001b[36mCell\u001b[39m\u001b[36m \u001b[39m\u001b[32mIn[23]\u001b[39m\u001b[32m, line 8\u001b[39m\n\u001b[32m      5\u001b[39m \u001b[38;5;28;01mimport\u001b[39;00m\u001b[38;5;250m \u001b[39m\u001b[34;01mseaborn\u001b[39;00m\u001b[38;5;250m \u001b[39m\u001b[38;5;28;01mas\u001b[39;00m\u001b[38;5;250m \u001b[39m\u001b[34;01msns\u001b[39;00m\n\u001b[32m      7\u001b[39m \u001b[38;5;66;03m# Set style untuk visualisasi\u001b[39;00m\n\u001b[32m----> \u001b[39m\u001b[32m8\u001b[39m \u001b[43mplt\u001b[49m\u001b[43m.\u001b[49m\u001b[43mstyle\u001b[49m\u001b[43m.\u001b[49m\u001b[43muse\u001b[49m\u001b[43m(\u001b[49m\u001b[33;43m'\u001b[39;49m\u001b[33;43mseaborn\u001b[39;49m\u001b[33;43m'\u001b[39;49m\u001b[43m)\u001b[49m\n\u001b[32m      9\u001b[39m sns.set_palette(\u001b[33m\"\u001b[39m\u001b[33mhusl\u001b[39m\u001b[33m\"\u001b[39m)\n",
      "\u001b[36mFile \u001b[39m\u001b[32m~/.local/lib/python3.13/site-packages/matplotlib/style/core.py:131\u001b[39m, in \u001b[36muse\u001b[39m\u001b[34m(style)\u001b[39m\n\u001b[32m    129\u001b[39m         style = _rc_params_in_file(style)\n\u001b[32m    130\u001b[39m     \u001b[38;5;28;01mexcept\u001b[39;00m \u001b[38;5;167;01mOSError\u001b[39;00m \u001b[38;5;28;01mas\u001b[39;00m err:\n\u001b[32m--> \u001b[39m\u001b[32m131\u001b[39m         \u001b[38;5;28;01mraise\u001b[39;00m \u001b[38;5;167;01mOSError\u001b[39;00m(\n\u001b[32m    132\u001b[39m             \u001b[33mf\u001b[39m\u001b[33m\"\u001b[39m\u001b[38;5;132;01m{\u001b[39;00mstyle\u001b[38;5;132;01m!r}\u001b[39;00m\u001b[33m is not a valid package style, path of style \u001b[39m\u001b[33m\"\u001b[39m\n\u001b[32m    133\u001b[39m             \u001b[33mf\u001b[39m\u001b[33m\"\u001b[39m\u001b[33mfile, URL of style file, or library style name (library \u001b[39m\u001b[33m\"\u001b[39m\n\u001b[32m    134\u001b[39m             \u001b[33mf\u001b[39m\u001b[33m\"\u001b[39m\u001b[33mstyles are listed in `style.available`)\u001b[39m\u001b[33m\"\u001b[39m) \u001b[38;5;28;01mfrom\u001b[39;00m\u001b[38;5;250m \u001b[39m\u001b[34;01merr\u001b[39;00m\n\u001b[32m    135\u001b[39m filtered = {}\n\u001b[32m    136\u001b[39m \u001b[38;5;28;01mfor\u001b[39;00m k \u001b[38;5;129;01min\u001b[39;00m style:  \u001b[38;5;66;03m# don't trigger RcParams.__getitem__('backend')\u001b[39;00m\n",
      "\u001b[31mOSError\u001b[39m: 'seaborn' is not a valid package style, path of style file, URL of style file, or library style name (library styles are listed in `style.available`)"
     ]
    }
   ],
   "source": [
    "# Import library yang diperlukan\n",
    "import numpy as np\n",
    "import pandas as pd\n",
    "import matplotlib.pyplot as plt\n",
    "import seaborn as sns\n",
    "\n",
    "# Set style untuk visualisasi\n",
    "plt.style.use('seaborn')\n",
    "sns.set_palette(\"husl\")"
   ]
  },
  {
   "cell_type": "code",
   "execution_count": 25,
   "metadata": {},
   "outputs": [],
   "source": [
    "# Import library yang diperlukan\n",
    "import numpy as np\n",
    "import pandas as pd\n",
    "import matplotlib.pyplot as plt\n",
    "import seaborn as sns\n",
    "\n",
    "# Contoh data sederhana\n",
    "np.random.seed(42)\n",
    "n_samples = 100\n",
    "data = {\n",
    "    'Usia': np.random.normal(25, 5, n_samples),\n",
    "    'Pendapatan': np.random.normal(5000000, 1000000, n_samples),\n",
    "    'Pengalaman': np.random.normal(3, 1, n_samples)\n",
    "}"
   ]
  },
  {
   "cell_type": "markdown",
   "metadata": {},
   "source": [
    "## Sumber Data\n",
    "\n",
    "### 1. Data Primer\n",
    "Data yang dikumpulkan langsung dari sumber pertama. Contoh:\n",
    "- Survei langsung\n",
    "- Wawancara\n",
    "- Eksperimen\n",
    "- Observasi lapangan\n",
    "\n",
    "### 2. Data Sekunder\n",
    "Data yang diperoleh dari sumber yang sudah ada. Contoh:\n",
    "- Database publik\n",
    "- Laporan penelitian\n",
    "- Data pemerintah\n",
    "- Dataset online\n",
    "\n",
    "## Teknik Pengumpulan Data\n",
    "\n",
    "### 1. Survei dan Kuesioner\n",
    "- Metode terstruktur untuk mengumpulkan data\n",
    "- Dapat mencakup pertanyaan tertutup atau terbuka\n",
    "- Efektif untuk mengumpulkan data dalam jumlah besar\n",
    "- Contoh implementasi:"
   ]
  },
  {
   "cell_type": "code",
   "execution_count": 28,
   "metadata": {},
   "outputs": [
    {
     "name": "stdout",
     "output_type": "stream",
     "text": [
      "Data Hasil Survei:\n",
      "   Responden  Usia  Pendapatan     Kepuasan\n",
      "0          1    25     5000000         Puas\n",
      "1          2    30     7000000  Sangat Puas\n",
      "2          3    35     8000000         Puas\n",
      "3          4    28     6000000  Kurang Puas\n",
      "4          5    32     7500000         Puas\n",
      "\n",
      "Rata-rata Usia: 30.0\n",
      "Rata-rata Pendapatan: 6700000.0\n",
      "\n",
      "Distribusi Tingkat Kepuasan:\n",
      "Kepuasan\n",
      "Puas           3\n",
      "Sangat Puas    1\n",
      "Kurang Puas    1\n",
      "Name: count, dtype: int64\n"
     ]
    }
   ],
   "source": [
    "# Contoh data survei sederhana\n",
    "survey_data = {\n",
    "    'Responden': range(1, 6),\n",
    "    'Usia': [25, 30, 35, 28, 32],\n",
    "    'Pendapatan': [5000000, 7000000, 8000000, 6000000, 7500000],\n",
    "    'Kepuasan': ['Puas', 'Sangat Puas', 'Puas', 'Kurang Puas', 'Puas']\n",
    "}\n",
    "\n",
    "# Membuat DataFrame\n",
    "df_survey = pd.DataFrame(survey_data)\n",
    "print(\"Data Hasil Survei:\")\n",
    "print(df_survey)\n",
    "\n",
    "# Analisis sederhana\n",
    "print(\"\\nRata-rata Usia:\", df_survey['Usia'].mean())\n",
    "print(\"Rata-rata Pendapatan:\", df_survey['Pendapatan'].mean())\n",
    "print(\"\\nDistribusi Tingkat Kepuasan:\")\n",
    "print(df_survey['Kepuasan'].value_counts())"
   ]
  },
  {
   "cell_type": "markdown",
   "metadata": {},
   "source": [
    "### 2. Web Scraping\n",
    "Web scraping adalah teknik untuk mengekstrak data dari website. Beberapa hal yang perlu diperhatikan:\n",
    "- Pastikan mematuhi robots.txt\n",
    "- Perhatikan rate limiting\n",
    "- Gunakan header yang sesuai\n",
    "- Simpan data dalam format yang terstruktur\n",
    "\n",
    "Contoh implementasi sederhana menggunakan requests dan BeautifulSoup:"
   ]
  },
  {
   "cell_type": "code",
   "execution_count": 29,
   "metadata": {},
   "outputs": [
    {
     "name": "stdout",
     "output_type": "stream",
     "text": [
      "Catatan: Kode di atas adalah contoh implementasi web scraping.\n",
      "Dalam praktik nyata, pastikan untuk:\n",
      "1. Memeriksa robots.txt\n",
      "2. Menambahkan delay antara requests\n",
      "3. Menggunakan header yang sesuai\n",
      "4. Menangani error dengan baik\n"
     ]
    }
   ],
   "source": [
    "# Import library untuk web scraping\n",
    "import requests\n",
    "from bs4 import BeautifulSoup\n",
    "\n",
    "# Contoh URL\n",
    "url = \"https://example.com\"\n",
    "\n",
    "# Fungsi sederhana untuk scraping\n",
    "def scrape_example():\n",
    "    try:\n",
    "        # Kirim request\n",
    "        response = requests.get(url)\n",
    "        \n",
    "        # Parse HTML\n",
    "        soup = BeautifulSoup(response.text, 'html.parser')\n",
    "        \n",
    "        # Contoh ekstraksi data\n",
    "        title = soup.title.string\n",
    "        paragraphs = soup.find_all('p')\n",
    "        \n",
    "        return {\n",
    "            'title': title,\n",
    "            'paragraphs': [p.text for p in paragraphs]\n",
    "        }\n",
    "    except Exception as e:\n",
    "        return f\"Error: {str(e)}\"\n",
    "\n",
    "# Note: Kode di atas hanya contoh dan tidak dieksekusi\n",
    "print(\"Catatan: Kode di atas adalah contoh implementasi web scraping.\")\n",
    "print(\"Dalam praktik nyata, pastikan untuk:\")\n",
    "print(\"1. Memeriksa robots.txt\")\n",
    "print(\"2. Menambahkan delay antara requests\")\n",
    "print(\"3. Menggunakan header yang sesuai\")\n",
    "print(\"4. Menangani error dengan baik\")"
   ]
  },
  {
   "cell_type": "markdown",
   "metadata": {},
   "source": [
    "### 3. API (Application Programming Interface)\n",
    "API adalah cara terstruktur untuk mengakses data dari layanan web. Keuntungan menggunakan API:\n",
    "- Data terstruktur dan konsisten\n",
    "- Rate limiting yang jelas\n",
    "- Dokumentasi yang tersedia\n",
    "- Lebih reliable dibanding web scraping\n",
    "\n",
    "Contoh penggunaan API:"
   ]
  },
  {
   "cell_type": "code",
   "execution_count": 31,
   "metadata": {},
   "outputs": [
    {
     "name": "stdout",
     "output_type": "stream",
     "text": [
      "Contoh struktur fungsi untuk mengakses API\n",
      "\n",
      "Catatan penting dalam penggunaan API:\n",
      "1. Selalu baca dokumentasi API\n",
      "2. Perhatikan rate limiting\n",
      "3. Gunakan API key dengan aman\n",
      "4. Handle errors dengan baik\n",
      "5. Simpan data response dengan format yang sesuai\n"
     ]
    }
   ],
   "source": [
    "# Contoh penggunaan API (menggunakan requests)\n",
    "def get_data_from_api(api_url, params=None):\n",
    "    try:\n",
    "        # Headers standar\n",
    "        headers = {\n",
    "            'User-Agent': 'Mozilla/5.0',\n",
    "            'Accept': 'application/json'\n",
    "        }\n",
    "        \n",
    "        # Kirim request ke API\n",
    "        response = requests.get(api_url, headers=headers, params=params)\n",
    "        \n",
    "        # Cek status response\n",
    "        if response.status_code == 200:\n",
    "            return response.json()\n",
    "        else:\n",
    "            return f\"Error: Status code {response.status_code}\"\n",
    "            \n",
    "    except Exception as e:\n",
    "        return f\"Error: {str(e)}\"\n",
    "\n",
    "# Contoh URL API (dummy)\n",
    "api_url = \"https://api.example.com/data\"\n",
    "\n",
    "# Contoh parameter\n",
    "params = {\n",
    "    \"limit\": 10,\n",
    "    \"offset\": 0\n",
    "}\n",
    "\n",
    "print(\"Contoh struktur fungsi untuk mengakses API\")\n",
    "print(\"\\nCatatan penting dalam penggunaan API:\")\n",
    "print(\"1. Selalu baca dokumentasi API\")\n",
    "print(\"2. Perhatikan rate limiting\")\n",
    "print(\"3. Gunakan API key dengan aman\")\n",
    "print(\"4. Handle errors dengan baik\")\n",
    "print(\"5. Simpan data response dengan format yang sesuai\")"
   ]
  },
  {
   "cell_type": "markdown",
   "metadata": {},
   "source": [
    "## Best Practices dalam Pengumpulan Data\n",
    "\n",
    "1. **Perencanaan yang Matang**\n",
    "   - Tentukan tujuan pengumpulan data\n",
    "   - Identifikasi sumber data yang relevan\n",
    "   - Pilih metode yang sesuai\n",
    "   - Siapkan infrastruktur yang diperlukan\n",
    "\n",
    "2. **Kualitas Data**\n",
    "   - Pastikan data akurat dan lengkap\n",
    "   - Validasi data yang dikumpulkan\n",
    "   - Dokumentasikan proses pengumpulan\n",
    "   - Lakukan pembersihan data awal\n",
    "\n",
    "3. **Etika dan Legalitas**\n",
    "   - Patuhi regulasi privasi data (GDPR, dll)\n",
    "   - Dapatkan persetujuan jika diperlukan\n",
    "   - Jaga kerahasiaan data sensitif\n",
    "   - Hormati hak cipta dan terms of service\n",
    "\n",
    "4. **Manajemen Data**\n",
    "   - Gunakan format penyimpanan yang sesuai\n",
    "   - Buat backup data secara regular\n",
    "   - Dokumentasikan metadata\n",
    "   - Terapkan version control\n",
    "\n",
    "## Latihan\n",
    "\n",
    "1. Buatlah survei sederhana menggunakan Google Forms atau tool serupa\n",
    "2. Lakukan web scraping pada website yang mengizinkan scraping\n",
    "3. Gunakan API publik untuk mengumpulkan data\n",
    "4. Implementasikan best practices dalam pengumpulan data"
   ]
  },
  {
   "cell_type": "markdown",
   "metadata": {},
   "source": [
    "## Kesimpulan\n",
    "\n",
    "Pengumpulan data adalah langkah fundamental dalam data science yang memerlukan:\n",
    "1. Pemahaman mendalam tentang berbagai metode pengumpulan data\n",
    "2. Kemampuan teknis dalam implementasi\n",
    "3. Kesadaran akan aspek etika dan legalitas\n",
    "4. Penerapan best practices untuk menjamin kualitas data\n",
    "\n",
    "Dalam praktik nyata, seringkali diperlukan kombinasi dari berbagai metode pengumpulan data untuk mendapatkan dataset yang komprehensif dan berkualitas.\n",
    "\n",
    "## Referensi\n",
    "\n",
    "1. Data Collection Methods in Research\n",
    "2. Web Scraping Best Practices\n",
    "3. API Documentation Best Practices\n",
    "4. Data Privacy and Protection Guidelines\n",
    "5. Survey Design and Implementation"
   ]
  }
 ],
 "metadata": {
  "kernelspec": {
   "display_name": "Python 3 (ipykernel)",
   "language": "python",
   "name": "python3"
  },
  "language_info": {
   "codemirror_mode": {
    "name": "ipython",
    "version": 3
   },
   "file_extension": ".py",
   "mimetype": "text/x-python",
   "name": "python",
   "nbconvert_exporter": "python",
   "pygments_lexer": "ipython3",
   "version": "3.13.2"
  }
 },
 "nbformat": 4,
 "nbformat_minor": 2
}
